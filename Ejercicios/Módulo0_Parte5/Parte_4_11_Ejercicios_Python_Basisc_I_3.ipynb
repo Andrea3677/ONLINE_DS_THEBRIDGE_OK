{
 "cells": [
  {
   "cell_type": "markdown",
   "metadata": {
    "id": "otLDAl8_9MG3"
   },
   "source": [
    "![TheBridge_logo_RGB_color.jpg](attachment:TheBridge_logo_RGB_color.jpg)"
   ]
  },
  {
   "cell_type": "markdown",
   "metadata": {
    "id": "LR3JgW349MG4"
   },
   "source": [
    "![imagen](./img/ejercicios.png)"
   ]
  },
  {
   "cell_type": "markdown",
   "metadata": {
    "id": "690NJcHg9MG4"
   },
   "source": [
    "## EJERCICIOS PYTHON BASICO 3:\n",
    "## Operaciones matemáticas, comparación y booleanas"
   ]
  },
  {
   "cell_type": "markdown",
   "metadata": {
    "id": "WFqlDkMy9MG5"
   },
   "source": [
    "Completa los siguiente ejercicios, la solución completa a los mismos se publicarán en el repo del curso a lo largo del sprint. En algunos ejercicios se muestra la solución final, para que puedas comprobar que lo has hecho bien, pero lo importante es el código que generes. ¡Vaaamos, a ello...!"
   ]
  },
  {
   "cell_type": "markdown",
   "metadata": {
    "id": "MZREBPtV9MG6"
   },
   "source": [
    "![ejercicio.png](./img/ejercicio.png)\n",
    "\n",
    "\n",
    "## Ejercicio 1\n",
    "Tenemos las siguientes variables:\n",
    "\n",
    "```Python\n",
    "A = 4\n",
    "B = \"Text\"\n",
    "C = 4.1\n",
    "```\n",
    "\n",
    "Comprueba:\n",
    "1. Si A y B son equivalentes\n",
    "2. Si A y C NO son equivalentes\n",
    "3. Si A es mayor que C\n",
    "4. Si C es menor o igual que A\n",
    "5. Si B NO es equivalente a C"
   ]
  },
  {
   "cell_type": "code",
   "execution_count": 15,
   "metadata": {},
   "outputs": [
    {
     "name": "stdout",
     "output_type": "stream",
     "text": [
      "False\n",
      "True\n",
      "False\n",
      "False\n",
      "True\n"
     ]
    }
   ],
   "source": [
    "A = 4\n",
    "B = \"Text\"\n",
    "C = 4.1\n",
    "\n",
    "print (A == B)\n",
    "print (A != C)\n",
    "print (A > C)\n",
    "print (C <= A)\n",
    "print (B != C)\n",
    "\n"
   ]
  },
  {
   "cell_type": "code",
   "execution_count": null,
   "metadata": {
    "id": "tnLJT-_v9MG6",
    "outputId": "2ad6cd3f-c579-4f8d-8725-748fedeb7897"
   },
   "outputs": [
    {
     "name": "stdout",
     "output_type": "stream",
     "text": [
      "False\n",
      "True\n",
      "False\n",
      "False\n",
      "True\n"
     ]
    }
   ],
   "source": []
  },
  {
   "cell_type": "markdown",
   "metadata": {
    "id": "A0gKq_M_9MG7"
   },
   "source": [
    "![ejercicio.png](./img/ejercicio.png)\n",
    "\n",
    "## Ejercicio 2\n",
    "Crea un programa donde se recojan dos inputs del usuario, y el output del programa sea si esos inputs son iguales o no"
   ]
  },
  {
   "cell_type": "code",
   "execution_count": 24,
   "metadata": {
    "id": "B2jTE_Bu9MG7"
   },
   "outputs": [
    {
     "name": "stdin",
     "output_type": "stream",
     "text": [
      "Por favor, escribe un número 2\n",
      "Por favor, escribe otro número 2.5\n"
     ]
    },
    {
     "name": "stdout",
     "output_type": "stream",
     "text": [
      "Los inputs NO son iguales. El resultado de la comprobación es: False\n"
     ]
    }
   ],
   "source": [
    "primer_input = input(\"Por favor, escribe un número\")\n",
    "segundo_input = input (\"Por favor, escribe otro número\")\n",
    "\n",
    "comprobacion = primer_input == segundo_input\n",
    "\n",
    "if comprobacion == False:\n",
    "    print(\"Los inputs NO son iguales. El resultado de la comprobación es:\", comprobacion)\n",
    "else:\n",
    "    print (\"Los inputs son iguales. El resultado de la comprobación es:\", comprobacion)\n"
   ]
  },
  {
   "cell_type": "markdown",
   "metadata": {
    "id": "lzlyYSL69MG8"
   },
   "source": [
    "![ejercicio.png](./img/ejercicio.png)\n",
    "\n",
    "## Ejercicio 3\n",
    "Mismo programa que en 2, pero en esta ocasión tienen que ser tres inputs y dos salidas. Una de las salidas que nos indique si todos son iguales, y la otra si al menos dos inputs sí que lo son"
   ]
  },
  {
   "cell_type": "code",
   "execution_count": 15,
   "metadata": {
    "id": "p3Bh1Oki9MG8",
    "outputId": "9f842eb9-27ed-400e-e9f6-dcbae82efe52"
   },
   "outputs": [
    {
     "name": "stdin",
     "output_type": "stream",
     "text": [
      "Por favor, escribe un algo 1\n",
      "Por favor, escribe algo más 1\n",
      "Por favor, escribe otro poco más 1\n"
     ]
    },
    {
     "name": "stdout",
     "output_type": "stream",
     "text": [
      "Los inputs son todos iguales. El resultado de la primer comprobación es: True\n",
      "Tal como se dijo en la comprobación anterior, todos los inputs son igules. El resultado de la primer comprobación es: True\n"
     ]
    }
   ],
   "source": [
    "primer_input = input(\"Por favor, escribe un algo\")\n",
    "segundo_input = input (\"Por favor, escribe algo más\")\n",
    "tercer_input = input (\"Por favor, escribe otro poco más\")\n",
    "\n",
    "comprobacion_1 = primer_input == segundo_input == tercer_input\n",
    "comprobacion_2 = primer_input == segundo_input  or primer_input == tercer_input or segundo_input == tercer_input\n",
    "\n",
    "\n",
    "if comprobacion_1 == False:\n",
    "    print(\"Los inputs NO son todos iguales. El resultado de la primer comprobación es:\", comprobacion_1)\n",
    "else:\n",
    "    print (\"Los inputs son todos iguales. El resultado de la primer comprobación es:\", comprobacion_1)\n",
    "\n",
    "if comprobacion_1 == True:\n",
    "    print (\"Tal como se dijo en la comprobación anterior, todos los inputs son igules. El resultado de la primer comprobación es:\", comprobacion_1)\n",
    "elif comprobacion_2 == True:\n",
    "    print (\"Al menos dos de los inputs son iguales. El resultado de la segunda comprobación es:\", comprobacion_2)\n",
    "else: \n",
    "    print (\"Los inputs son todos diferentes. El resultado de la segunda comprobación es:\", comprobacion_2)\n",
    "    "
   ]
  },
  {
   "cell_type": "markdown",
   "metadata": {
    "id": "KoxzfwcY9MG8"
   },
   "source": [
    "![ejercicio.png](./img/ejercicio.png)\n",
    "\n",
    "## Ejercicio 4\n",
    "Razona sin ejecutar código el output que obtendremos de las siguientes sentencias\n",
    "1. True and True and False\n",
    "2. not ((True or False) and (True or False))\n",
    "3. (False or False or False or True) and False\n",
    "4. not False and True and not True"
   ]
  },
  {
   "cell_type": "markdown",
   "metadata": {
    "id": "0ECpTrxS9MG8"
   },
   "source": [
    "1. False\n",
    "2. False\n",
    "3. False\n",
    "4. False\n",
    "   "
   ]
  }
 ],
 "metadata": {
  "colab": {
   "provenance": []
  },
  "kernelspec": {
   "display_name": "Python 3 (ipykernel)",
   "language": "python",
   "name": "python3"
  },
  "language_info": {
   "codemirror_mode": {
    "name": "ipython",
    "version": 3
   },
   "file_extension": ".py",
   "mimetype": "text/x-python",
   "name": "python",
   "nbconvert_exporter": "python",
   "pygments_lexer": "ipython3",
   "version": "3.13.7"
  }
 },
 "nbformat": 4,
 "nbformat_minor": 4
}
