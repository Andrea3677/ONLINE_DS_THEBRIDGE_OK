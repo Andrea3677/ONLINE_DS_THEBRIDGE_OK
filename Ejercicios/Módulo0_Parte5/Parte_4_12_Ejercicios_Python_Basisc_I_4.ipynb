{
 "cells": [
  {
   "cell_type": "markdown",
   "metadata": {
    "id": "J-74SE149PcU"
   },
   "source": [
    "![TheBridge_logo_RGB_color.jpg](attachment:TheBridge_logo_RGB_color.jpg)"
   ]
  },
  {
   "cell_type": "markdown",
   "metadata": {
    "id": "rwZWTS9F9PcW"
   },
   "source": [
    "![imagen](./img/ejercicios.png)"
   ]
  },
  {
   "cell_type": "markdown",
   "metadata": {
    "id": "hH78mcKu9PcX"
   },
   "source": [
    "## EJERCICIOS PYTHON BASICO 4:\n",
    "## Funciones, métodos, listas"
   ]
  },
  {
   "cell_type": "markdown",
   "metadata": {
    "id": "FcUMko5Z9PcX"
   },
   "source": [
    "Completa los siguiente ejercicios, la solución completa a los mismos se publicarán en el repo del curso a lo largo del sprint. En algunos ejercicios se muestra la solución final, para que puedas comprobar que lo has hecho bien, pero lo importante es el código que generes. ¡Vaaamos, a ello...!"
   ]
  },
  {
   "cell_type": "markdown",
   "metadata": {
    "id": "5-bfrdoj9PcY"
   },
   "source": [
    "![ejercicio.png](./img/ejercicio.png)\n",
    "\n",
    "## Ejercicio 1\n",
    "Para este ejercicio vamos a poner en práctica [las funciones built in](https://docs.python.org/3/library/functions.html).\n",
    "\n",
    "1. Calcula el máximo de la lista: [4, 6, 8, -1]\n",
    "2. Suma todos los elementos de la lista anterior\n",
    "3. Redondea este float a 3 dígitos decimales: 63.451256965\n",
    "4. Valor absoluto de: -74"
   ]
  },
  {
   "cell_type": "code",
   "execution_count": 9,
   "metadata": {
    "id": "Qe4m-ldl9PcY"
   },
   "outputs": [
    {
     "name": "stdout",
     "output_type": "stream",
     "text": [
      "8\n",
      "17\n",
      "63.451\n",
      "74\n"
     ]
    }
   ],
   "source": [
    "# Ejercicio 1-1\n",
    "lista = [4, 6, 8, -1]\n",
    "maximo = max (lista)\n",
    "print (maximo)\n",
    "\n",
    "# Ejercicio 1-2\n",
    "suma = sum(lista)\n",
    "print (suma)\n",
    "\n",
    "# Ejercicio 1-3\n",
    "float = 63.451256965\n",
    "redondeo = round(float, 3)\n",
    "print (redondeo)\n",
    "\n",
    "# Ejercicio 1-4\n",
    "entero = -74\n",
    "absoluto = abs (entero)\n",
    "print (absoluto)"
   ]
  },
  {
   "cell_type": "markdown",
   "metadata": {
    "id": "N3TwE7nA9PcY"
   },
   "source": [
    "![ejercicio.png](./img/ejercicio.png)\n",
    "\n",
    "## Ejercicio 2\n",
    "Para el siguiente string se pide imprimir por pantalla los siguientes casos\n",
    "\n",
    "    \"En un lugar de la Mancha, de cuyo nombre no quiero acordarme.\"\n",
    "\n",
    "1. Pásalo todo a mayúsculas\n",
    "2. Pásalo todo a minúsculas\n",
    "3. Solo la primera letra de cada palabra en mayúscula, el resto en minúscula\n",
    "4. Crea una lista dividiéndolo por sus espacios\n",
    "5. Sustituye las comas `,` por puntos y comas `;`\n",
    "6. Elimina las `a` minúsculas"
   ]
  },
  {
   "cell_type": "code",
   "execution_count": 11,
   "metadata": {
    "id": "R405Npwr9PcZ",
    "outputId": "3b551cc5-eeaa-4fa3-9983-5acfb5b7fec1"
   },
   "outputs": [
    {
     "name": "stdout",
     "output_type": "stream",
     "text": [
      "EN UN LUGAR DE LA MANCHA, DE CUYO NOMBRE NO QUIERO ACORDARME.\n",
      "en un lugar de la mancha, de cuyo nombre no quiero acordarme.\n",
      "En un lugar de la mancha, de cuyo nombre no quiero acordarme.\n",
      "['En', 'un', 'lugar', 'de', 'la', 'Mancha,', 'de', 'cuyo', 'nombre', 'no', 'quiero', 'acordarme.']\n",
      "En un lugar de la Mancha; de cuyo nombre no quiero acordarme.\n",
      "En un lugr de l Mnch, de cuyo nombre no quiero cordrme.\n"
     ]
    }
   ],
   "source": [
    "string = \"En un lugar de la Mancha, de cuyo nombre no quiero acordarme.\"\n",
    "\n",
    "print (string.upper())\n",
    "print (string.lower())\n",
    "print (string.capitalize())\n",
    "print (string.split())\n",
    "print (string.replace(\",\",\";\"))\n",
    "print (string.replace(\"a\",\"\"))"
   ]
  },
  {
   "cell_type": "markdown",
   "metadata": {
    "id": "lWEs-1KR9PcZ"
   },
   "source": [
    "![ejercicio.png](./img/ejercicio.png)\n",
    "\n",
    "## Ejercicio 3\n",
    "1. Crea una lista con 3 elementos numéricos\n",
    "2. Añade un cuarto elemento\n",
    "3. Calcula la suma de todos\n",
    "4. Elimina el segundo elemento de la lista\n",
    "5. Añade otro elemento en la posicion 3 de la lista\n",
    "6. Crea otra lista con 4 elementos y concaténala a la que ya tenías.\n",
    "7. Ordena la lista de menor a mayor.\n",
    "8. BONUS: Ordena la lista de mayor a menor.  \n",
    "(*PISTA: Para hacer 8, tendrás que buscar en la información del método...*)  \n",
    "  \n",
    "  \n",
    "NOTA: Pinta por pantalla el resultado de cada paso."
   ]
  },
  {
   "cell_type": "code",
   "execution_count": 27,
   "metadata": {},
   "outputs": [
    {
     "name": "stdout",
     "output_type": "stream",
     "text": [
      "[1, 10, 4]\n",
      "[1, 10, 4, 60]\n",
      "75\n",
      "[1, 10, 60]\n",
      "[1, 10, 60, 30]\n",
      "[1, 10, 60, 30, 59, 63, 48, 16]\n",
      "[1, 10, 16, 30, 48, 59, 60, 63]\n",
      "[63, 60, 59, 48, 30, 16, 10, 1]\n"
     ]
    }
   ],
   "source": [
    "#ejericio 3-1\n",
    "lista = [1,10,4]\n",
    "print (lista)\n",
    "\n",
    "#ejericio 3-2\n",
    "lista.append(60)\n",
    "print (lista)\n",
    "#ejericio 3-3\n",
    "print(sum(lista))\n",
    "\n",
    "#ejericio 3-4\n",
    "lista.pop(2)\n",
    "print(lista)\n",
    "\n",
    "#ejericio 3-5\n",
    "lista.insert(3,30)\n",
    "print(lista)\n",
    "\n",
    "#ejericio 3-6\n",
    "lista_2 = [59,63,48,16]\n",
    "lista.extend(lista_2)\n",
    "print(lista)\n",
    "\n",
    "#ejericio 3-7\n",
    "lista.sort()\n",
    "print(lista)\n",
    "\n",
    "#ejericio 3-8\n",
    "lista.reverse()\n",
    "print(lista)\n"
   ]
  }
 ],
 "metadata": {
  "colab": {
   "provenance": []
  },
  "kernelspec": {
   "display_name": "Python 3 (ipykernel)",
   "language": "python",
   "name": "python3"
  },
  "language_info": {
   "codemirror_mode": {
    "name": "ipython",
    "version": 3
   },
   "file_extension": ".py",
   "mimetype": "text/x-python",
   "name": "python",
   "nbconvert_exporter": "python",
   "pygments_lexer": "ipython3",
   "version": "3.13.7"
  }
 },
 "nbformat": 4,
 "nbformat_minor": 4
}
