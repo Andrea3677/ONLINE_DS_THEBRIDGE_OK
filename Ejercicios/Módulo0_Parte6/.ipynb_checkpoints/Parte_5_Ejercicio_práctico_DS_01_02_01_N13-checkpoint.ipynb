{
 "cells": [
  {
   "cell_type": "raw",
   "metadata": {
    "id": "9l3HMgm6RWxF"
   },
   "source": [
    "![TheBridge_logo_RGB_color.jpg](attachment:TheBridge_logo_RGB_color.jpg)"
   ]
  },
  {
   "cell_type": "markdown",
   "metadata": {
    "id": "RGg9iWpoRWxG"
   },
   "source": [
    "![ejercicios.png](attachment:ejercicios.png)"
   ]
  },
  {
   "cell_type": "markdown",
   "metadata": {
    "id": "AyOlWS2nRWxH"
   },
   "source": [
    "## PRACTICA OBLIGATORIA: COLECCIONES Y FUNCIONES"
   ]
  },
  {
   "cell_type": "markdown",
   "metadata": {
    "id": "6UOgb0KVRWxH"
   },
   "source": [
    "* La práctica obligatoria de esta unidad consiste varios ejercicios de programación libre a completar sobre Colecciones y Funciones. Descarga este notebook en tu ordenador y trabaja en local.  \n",
    "* Recuerda que debes subirla a tu repositorio personal antes de la sesión en vivo para que puntúe adecuadamente y puedas participar en dicha sesión.  \n",
    "* Recuerda también que no es necesario que esté perfecta, sólo es necesario que se vea el esfuerzo.\n",
    "* Esta práctica se resolverá en la sesión en vivo correspondiente y la solución se publicará en el repo del curso."
   ]
  },
  {
   "cell_type": "markdown",
   "metadata": {
    "id": "j3yu-tEjRWxH"
   },
   "source": [
    "### Contenidos"
   ]
  },
  {
   "cell_type": "markdown",
   "metadata": {
    "id": "kO-fLH39RWxH"
   },
   "source": [
    "## Ejercicio 1\n",
    "Eleva todos los elementos de la lista al cuadrado\n",
    "> ```ejer_2 = [1,2,3,4,5]```"
   ]
  },
  {
   "cell_type": "code",
   "execution_count": 3,
   "metadata": {
    "id": "ks5l3yi7RWxH"
   },
   "outputs": [
    {
     "name": "stdout",
     "output_type": "stream",
     "text": [
      "[1, 4, 9, 16, 25]\n"
     ]
    }
   ],
   "source": [
    "lista = [1,2,3,4,5]\n",
    "lista_elevada = []\n",
    "\n",
    "for i in lista:\n",
    "    elevacion = i**2\n",
    "    lista_elevada.append (elevacion)\n",
    "print(lista_elevada)"
   ]
  },
  {
   "cell_type": "code",
   "execution_count": 4,
   "metadata": {},
   "outputs": [
    {
     "name": "stdout",
     "output_type": "stream",
     "text": [
      "1\n",
      "4\n",
      "9\n",
      "16\n",
      "25\n"
     ]
    }
   ],
   "source": [
    "lista = [1,2,3,4,5]\n",
    "\n",
    "for i in lista:\n",
    "    elevacion = i**2\n",
    "    print (elevacion)"
   ]
  },
  {
   "cell_type": "markdown",
   "metadata": {
    "id": "kI_Xr5oFRWxI"
   },
   "source": [
    "## Ejercicio 2\n",
    "Haz un programa que detecte todos los duplicados de un elemento en una lista:\n",
    "* Utiliza una variable duplicado para asignarle el valor del elemento del que queremos encontrar todos sus duplicados.\n",
    "* El programa debe devolver todos los índices de los elementos duplicados.\n",
    "* Aplícalo para encontrar los duplicados de \"un\", \"es\" y \"binario\" de:  \n",
    "\n",
    ">```ejer_3 = [\"Un\", \"árbol\", \"binario\", \"es\", \"una\", \"estructura\", \"de\", \"un\", \"tipo\", \"particular\", \"a\", \"veces\", \"no\", \"es\", \"ni\", \"binario\"]```\n"
   ]
  },
  {
   "cell_type": "code",
   "execution_count": 5,
   "metadata": {
    "id": "cLY9WB7YRWxI"
   },
   "outputs": [
    {
     "name": "stdout",
     "output_type": "stream",
     "text": [
      "La palabra' es ' está duplicada en el índice número:  3\n",
      "La palabra' es ' está duplicada en el índice número:  13\n",
      "La palabra' un ' está duplicada en el índice número:  7\n",
      "La palabra' binario ' está duplicada en el índice número:  2\n",
      "La palabra' binario ' está duplicada en el índice número:  15\n"
     ]
    }
   ],
   "source": [
    "ejer_3 = [\"Un\", \"árbol\", \"binario\", \"es\", \"una\", \"estructura\", \"de\", \"un\", \"tipo\", \"particular\", \"a\", \"veces\", \"no\", \"es\", \"ni\", \"binario\"]\n",
    "\n",
    "def buscar_duplicado(duplicado):\n",
    "    indice = 0\n",
    "    for elemento in ejer_3:\n",
    "        if duplicado == elemento:\n",
    "            print(\"La palabra'\", duplicado, \"' está duplicada en el índice número: \", indice)\n",
    "            indice = indice + 1\n",
    "        else: \n",
    "            indice = indice +1\n",
    "\n",
    "buscar_duplicado(\"es\")\n",
    "buscar_duplicado (\"un\")\n",
    "buscar_duplicado (\"binario\")"
   ]
  },
  {
   "cell_type": "code",
   "execution_count": 6,
   "metadata": {},
   "outputs": [
    {
     "name": "stdout",
     "output_type": "stream",
     "text": [
      "La palabra' es ' está duplicada en los siguientes indices:  [3, 13]\n",
      "La palabra' un ' está duplicada en los siguientes indices:  [7]\n",
      "La palabra' binario ' está duplicada en los siguientes indices:  [2, 15]\n",
      "La palabra ' casa ' no se encuentra dentro de la lista\n"
     ]
    }
   ],
   "source": [
    "ejer_3 = [\"Un\", \"árbol\", \"binario\", \"es\", \"una\", \"estructura\", \"de\", \"un\", \"tipo\", \"particular\", \"a\", \"veces\", \"no\", \"es\", \"ni\", \"binario\"]\n",
    "\n",
    "def buscar_duplicado(duplicado):\n",
    "    indice = 0\n",
    "    indices_duplicados = []\n",
    "    for elemento in ejer_3:\n",
    "        if duplicado == elemento:\n",
    "            indices_duplicados.append(indice)\n",
    "            indice = indice + 1\n",
    "        else: \n",
    "            indice = indice +1\n",
    "    if  len(indices_duplicados) != 0:\n",
    "         print(\"La palabra'\", duplicado, \"' está duplicada en los siguientes indices: \", indices_duplicados)\n",
    "    else: \n",
    "        print (\"La palabra '\", duplicado, \"' no se encuentra dentro de la lista\")\n",
    "        \n",
    "buscar_duplicado(\"es\")\n",
    "buscar_duplicado (\"un\")\n",
    "buscar_duplicado (\"binario\")\n",
    "buscar_duplicado (\"casa\")"
   ]
  },
  {
   "cell_type": "markdown",
   "metadata": {
    "id": "3WrBd5QaRWxI"
   },
   "source": [
    "## Ejercicio 3\n",
    "1. ¿Cuántas veces se repite el 3 en la siguiente tupla?\n",
    "2. Crea una tupla nueva con los elementos desde la posicion 5 a la 10.\n",
    "3. ¿Cuántos elementos tiene la tupla `ejer_3`?\n",
    "> ```ejer_9 = (3, 20, 3, 47, 19, 3, 29, 45, 67, 78, 90, 3, 3, 5, 2, 4, 7, 9, 4, 2, 4, 3, 3, 4, 6, 7)```"
   ]
  },
  {
   "cell_type": "code",
   "execution_count": 7,
   "metadata": {
    "id": "bkv_R5LYRWxI"
   },
   "outputs": [
    {
     "name": "stdout",
     "output_type": "stream",
     "text": [
      "El 3 está repetido 7 veces\n"
     ]
    }
   ],
   "source": [
    "#Ejericio 3-1\n",
    "\n",
    "ejer_9 = (3, 20, 3, 47, 19, 3, 29, 45, 67, 78, 90, 3, 3, 5, 2, 4, 7, 9, 4, 2, 4, 3, 3, 4, 6, 7)\n",
    "\n",
    "def repeticion(elemento_repetido):\n",
    "    veces_repetido = 0\n",
    "    for elemento in ejer_9:\n",
    "        if elemento == elemento_repetido :\n",
    "            veces_repetido = veces_repetido + 1\n",
    "        else:\n",
    "            veces_repetido = veces_repetido\n",
    "    if veces_repetido == 0:\n",
    "        print (\"El\", elemento_repetido, \"no se encuentra en la tupla\")\n",
    "    else:\n",
    "        print (\"El\", elemento_repetido, \"está repetido\", veces_repetido, \"veces\")\n",
    "\n",
    "repeticion(3)"
   ]
  },
  {
   "cell_type": "code",
   "execution_count": 8,
   "metadata": {},
   "outputs": [
    {
     "name": "stdout",
     "output_type": "stream",
     "text": [
      "(3, 29, 45, 67, 78, 90)\n"
     ]
    }
   ],
   "source": [
    "#ejercicio 3-2\n",
    "nueva_tupla = ejer_9[5:11]\n",
    "print(nueva_tupla)\n"
   ]
  },
  {
   "cell_type": "code",
   "execution_count": 9,
   "metadata": {},
   "outputs": [
    {
     "name": "stdout",
     "output_type": "stream",
     "text": [
      "Primero convertimos la lista ejer_3 en tupla.\n",
      "('Un', 'árbol', 'binario', 'es', 'una', 'estructura', 'de', 'un', 'tipo', 'particular', 'a', 'veces', 'no', 'es', 'ni', 'binario') <class 'tuple'>\n",
      "La tupla derivada de la lista ejer_3 tiene: 16 elementos.\n"
     ]
    }
   ],
   "source": [
    "#ejericio 3-3\n",
    "\n",
    "#ejer_3 es una lista, no una tupla \n",
    "ejer_3 = [\"Un\", \"árbol\", \"binario\", \"es\", \"una\", \"estructura\", \"de\", \"un\", \"tipo\", \"particular\", \"a\", \"veces\", \"no\", \"es\", \"ni\", \"binario\"]\n",
    "\n",
    "ejer_3_tupla = tuple(ejer_3)\n",
    "print(\"Primero convertimos la lista ejer_3 en tupla.\")\n",
    "print(ejer_3_tupla, type (ejer_3_tupla))\n",
    "\n",
    "print(\"La tupla derivada de la lista ejer_3 tiene:\", len(ejer_3_tupla), \"elementos.\")\n",
    "\n",
    "\n"
   ]
  },
  {
   "cell_type": "markdown",
   "metadata": {
    "id": "6g8Y54AeRWxI"
   },
   "source": [
    "## Ejercicio 4\n",
    "Comprueba si el numero 60 esta en la tupla del ejercicio 3"
   ]
  },
  {
   "cell_type": "code",
   "execution_count": 10,
   "metadata": {
    "id": "F8VTEZonRWxI"
   },
   "outputs": [
    {
     "name": "stdout",
     "output_type": "stream",
     "text": [
      "El 60 no se encuentra en la tupla\n"
     ]
    }
   ],
   "source": [
    "repeticion(60)"
   ]
  },
  {
   "cell_type": "markdown",
   "metadata": {
    "id": "y0fg-ZA6RWxI"
   },
   "source": [
    "## Ejercicio 5\n",
    "1. Convierte la tupla del ejercicio 3 en una lista\n",
    "2. Convierte la tupla del ejercicio 3 en un set\n",
    "3. Convierte la tupla del ejercicio 3 en un diccionario. Usa también los indices"
   ]
  },
  {
   "cell_type": "code",
   "execution_count": 11,
   "metadata": {
    "id": "_O5hXr01RWxI"
   },
   "outputs": [
    {
     "name": "stdout",
     "output_type": "stream",
     "text": [
      "[3, 20, 3, 47, 19, 3, 29, 45, 67, 78, 90, 3, 3, 5, 2, 4, 7, 9, 4, 2, 4, 3, 3, 4, 6, 7] <class 'list'>\n"
     ]
    }
   ],
   "source": [
    "#Ejercicio 5-1\n",
    "ejer_9 = (3, 20, 3, 47, 19, 3, 29, 45, 67, 78, 90, 3, 3, 5, 2, 4, 7, 9, 4, 2, 4, 3, 3, 4, 6, 7) \n",
    "\n",
    "\n",
    "lista_ejercicio3 = list(ejer_9)\n",
    "print (lista_ejercicio3, type (lista_ejercicio3))\n"
   ]
  },
  {
   "cell_type": "code",
   "execution_count": 12,
   "metadata": {},
   "outputs": [
    {
     "name": "stdout",
     "output_type": "stream",
     "text": [
      "{2, 3, 67, 5, 4, 7, 6, 9, 45, 78, 47, 19, 20, 90, 29} <class 'set'>\n"
     ]
    }
   ],
   "source": [
    "#Ejericio 5-2\n",
    "set_ejercicio3 = set(ejer_9)\n",
    "print (set_ejercicio3, type (set_ejercicio3))"
   ]
  },
  {
   "cell_type": "code",
   "execution_count": 14,
   "metadata": {},
   "outputs": [
    {
     "name": "stdout",
     "output_type": "stream",
     "text": [
      "{0: 3, 1: 20, 2: 3, 3: 47, 4: 19, 5: 3, 6: 29, 7: 45, 8: 67, 9: 78, 10: 90, 11: 3, 12: 3, 13: 5, 14: 2, 15: 4, 16: 7, 17: 9, 18: 4, 19: 2, 20: 4, 21: 3, 22: 3, 23: 4, 24: 6, 25: 7} <class 'dict'>\n"
     ]
    }
   ],
   "source": [
    "ejer_9 = (3, 20, 3, 47, 19, 3, 29, 45, 67, 78, 90, 3, 3, 5, 2, 4, 7, 9, 4, 2, 4, 3, 3, 4, 6, 7) \n",
    "\n",
    "dict_ejercicio3 = dict(enumerate(ejer_9))\n",
    "print(dict_ejercicio3, type (dict_ejercicio3))"
   ]
  },
  {
   "cell_type": "markdown",
   "metadata": {
    "id": "eOdWWbxvRWxJ"
   },
   "source": [
    "## Ejercicio 6\n",
    "Multiplica todos los valores del diccionario\n",
    "> ```ejer_6 = {1: 11, 2: 22, 3: 33, 4: 44, 5: 55}```"
   ]
  },
  {
   "cell_type": "code",
   "execution_count": 18,
   "metadata": {
    "id": "KcuByovKRWxJ"
   },
   "outputs": [
    {
     "name": "stdout",
     "output_type": "stream",
     "text": [
      "{1: 22, 2: 44, 3: 66, 4: 88, 5: 110}\n"
     ]
    }
   ],
   "source": [
    "ejer_6 = {1: 11, 2: 22, 3: 33, 4: 44, 5: 55}\n",
    "\n",
    "def multiplicacion(multiplo):\n",
    "    for i in ejer_6:\n",
    "        nuevo_valor = ejer_6[i] * multiplo\n",
    "        ejer_6[i] = nuevo_valor \n",
    "    print(ejer_6)\n",
    "\n",
    "\n",
    "multiplicacion(2)\n"
   ]
  },
  {
   "cell_type": "code",
   "execution_count": 16,
   "metadata": {},
   "outputs": [
    {
     "name": "stdout",
     "output_type": "stream",
     "text": [
      "{1: 11, 2: 22, 3: 33, 4: 44, 5: 55}\n",
      "{1: 22, 2: 44, 3: 66, 4: 88, 5: 110}\n",
      "{1: 11, 2: 22, 3: 33, 4: 44, 5: 55}\n",
      "{1: 88, 2: 176, 3: 264, 4: 352, 5: 440}\n",
      "{1: 11, 2: 22, 3: 33, 4: 44, 5: 55}\n",
      "{1: 2816, 2: 5632, 3: 8448, 4: 11264, 5: 14080}\n"
     ]
    }
   ],
   "source": [
    "ejer_6 = {1: 11, 2: 22, 3: 33, 4: 44, 5: 55}\n",
    "\n",
    "def multiplicacion(multiplo):\n",
    "    nuevo_dict = {}\n",
    "    for i in ejer_6:\n",
    "        nuevo_valor = ejer_6[i] * multiplo\n",
    "        nuevo_dict[i] = nuevo_valor \n",
    "    print(ejer_6)\n",
    "    print(nuevo_dict)\n",
    "\n",
    "\n",
    "multiplicacion(2)\n",
    "multiplicacion(8)\n",
    "multiplicacion(256)"
   ]
  },
  {
   "cell_type": "markdown",
   "metadata": {
    "id": "W7TUSaKRRWxJ"
   },
   "source": [
    "## Ejercicio 7\n",
    "\n",
    "1. Crea un diccionario que describa un libro, con los siguientes campos o claves: \"titulo\",\"autor\",\"idioma original\",\"año de publicación\".\n",
    "2. Crea un a lista, llamada librería.\n",
    "3. Añade cuatro libros a tu elección a la librería."
   ]
  },
  {
   "cell_type": "code",
   "execution_count": 19,
   "metadata": {
    "id": "d-IMRvxRRWxJ",
    "vscode": {
     "languageId": "plaintext"
    }
   },
   "outputs": [
    {
     "name": "stdout",
     "output_type": "stream",
     "text": [
      "{'titulo': 'El arte de la guerra', 'autor': 'Sun Tzu', 'idioma original': 'Chino', 'año de publicación': 'IV AC'} <class 'dict'>\n"
     ]
    }
   ],
   "source": [
    "#Ejericio 7-1\n",
    "\n",
    "libros= {\n",
    "    \"titulo\" : \"El arte de la guerra\",\n",
    "    \"autor\" : \"Sun Tzu\",\n",
    "    \"idioma original\" : \"Chino\",\n",
    "    \"año de publicación\" : \"IV AC\"\n",
    "    }\n",
    "print(libros, type(libros))"
   ]
  },
  {
   "cell_type": "code",
   "execution_count": 20,
   "metadata": {},
   "outputs": [
    {
     "name": "stdout",
     "output_type": "stream",
     "text": [
      "['El arte de la guerra'] <class 'list'>\n"
     ]
    }
   ],
   "source": [
    "#Ejercicio 7-2\n",
    "\n",
    "libreria = [\"El arte de la guerra\"]\n",
    "\n",
    "print (libreria, type (libreria))\n",
    "\n"
   ]
  },
  {
   "cell_type": "code",
   "execution_count": 21,
   "metadata": {},
   "outputs": [
    {
     "name": "stdout",
     "output_type": "stream",
     "text": [
      "['El arte de la guerra']\n",
      "['El arte de la guerra', 'Trilogía de los tres cuerpos', 'La montaña del alma', 'Sueño en el pabellon rojo', 'Viaje al oeste']\n"
     ]
    }
   ],
   "source": [
    "#Ejercicio 7-3\n",
    "print (libreria) \n",
    "\n",
    "libreria.append(\"Trilogía de los tres cuerpos\") \n",
    "libreria.append (\"La montaña del alma\")\n",
    "libreria.append (\"Sueño en el pabellon rojo\")\n",
    "libreria.append (\"Viaje al oeste\")\n",
    "\n",
    "print(libreria)"
   ]
  },
  {
   "cell_type": "code",
   "execution_count": 22,
   "metadata": {},
   "outputs": [
    {
     "name": "stdout",
     "output_type": "stream",
     "text": [
      "['El arte de la guerra'] <class 'list'>\n",
      "['El arte de la guerra', 'Trilogía de los tres cuerpos', 'La montaña del alma', 'Sueño en el pabellon rojo', 'Viaje al oeste']\n"
     ]
    }
   ],
   "source": [
    "# otra solución al ejercicio 7-3\n",
    "libreria = [\"El arte de la guerra\"]\n",
    "print(libreria, type(libreria))\n",
    "libros_nuevos = [\"Trilogía de los tres cuerpos\", \"La montaña del alma\",\"Sueño en el pabellon rojo\", \"Viaje al oeste\"]\n",
    "libreria.extend(libros_nuevos)\n",
    "print(libreria)"
   ]
  },
  {
   "cell_type": "markdown",
   "metadata": {
    "id": "glMoedjYRWxJ"
   },
   "source": [
    "## Ejercicio 8\n",
    "Modifica los valores del idioma de todos los libros del ejercicio anterior para que sea \"esperanto\"\n"
   ]
  },
  {
   "cell_type": "code",
   "execution_count": 23,
   "metadata": {
    "id": "veNdC-uwRWxJ"
   },
   "outputs": [
    {
     "name": "stdout",
     "output_type": "stream",
     "text": [
      "{'titulo': 'El arte de la guerra', 'autor': 'Sun Tzu', 'idioma original': 'Esperanto', 'año de publicación': 'IV AC'}\n"
     ]
    }
   ],
   "source": [
    "libros[\"idioma original\"] = \"Esperanto\"\n",
    "print(libros)"
   ]
  },
  {
   "cell_type": "markdown",
   "metadata": {
    "id": "DRCJG04KRWxJ"
   },
   "source": [
    "## Ejercicio 9\n",
    "1. Escribe un programa que dada una variable titulo busque los libros que hay en la librería con ese título. Si no se encuentra debe devolver el mensaje `Ese no lo tengo, ¿mola?`\n",
    "2. Pruena que el programa con uno de tus libros y con otro que no contenga tu librería."
   ]
  },
  {
   "cell_type": "code",
   "execution_count": 24,
   "metadata": {
    "id": "eWHdJi9BRWxJ"
   },
   "outputs": [
    {
     "name": "stdout",
     "output_type": "stream",
     "text": [
      "Este libro ya lo tengo\n",
      "Ese no lo tengo, ¿mola?\n"
     ]
    }
   ],
   "source": [
    "libreria = ['El arte de la guerra', 'Trilogía de los tres cuerpos', 'La montaña del alma', 'Sueño en el pabellon rojo', 'Viaje al oeste',\"arte\"]\n",
    "\n",
    "def busqueda(titulo):\n",
    "    if titulo in libreria:\n",
    "        print (\"Este libro ya lo tengo\")\n",
    "    else: \n",
    "        print (\"Ese no lo tengo, ¿mola?\")\n",
    "    \n",
    "busqueda(\"El arte de la guerra\")\n",
    "busqueda(\"Cien años de perdón\")"
   ]
  },
  {
   "cell_type": "markdown",
   "metadata": {
    "id": "17YOpYuFRWxJ"
   },
   "source": [
    "## Ejercicio 10\n",
    "Convierte el programa del ejercicio 2 en una función al que se le pase el valor a buscar como un argumento posicional"
   ]
  },
  {
   "cell_type": "code",
   "execution_count": 25,
   "metadata": {
    "id": "xbj0LgvnRWxJ"
   },
   "outputs": [
    {
     "name": "stdout",
     "output_type": "stream",
     "text": [
      "Las palabras' es - un - binario ' se encuentran duplicadas en los siguientes indices:  [2, 3, 7, 13, 15] . A continuación, el detalle:\n",
      "2 - binario\n",
      "3 - es\n",
      "7 - un\n",
      "13 - es\n",
      "15 - binario\n",
      "Las palabras' es - un - coma ' se encuentran duplicadas en los siguientes indices:  [3, 7, 13] . A continuación, el detalle:\n",
      "3 - es\n",
      "7 - un\n",
      "13 - es\n",
      "Las palabras ' lona - forma - coma ' no se encuentran dentro de la lista.\n"
     ]
    }
   ],
   "source": [
    "ejer_3 = [\"Un\", \"árbol\", \"binario\", \"es\", \"una\", \"estructura\", \"de\", \"un\", \"tipo\", \"particular\", \"a\", \"veces\", \"no\", \"es\", \"ni\", \"binario\"]\n",
    "\n",
    "def buscar_duplicado(duplicado_1, duplicado_2, duplicado_3):\n",
    "    indice = 0\n",
    "    indices_duplicados= []\n",
    "    for elemento in ejer_3:\n",
    "        if duplicado_1 == elemento or duplicado_2 == elemento or duplicado_3 == elemento:\n",
    "            indices_duplicados.append(indice)\n",
    "            indice = indice + 1\n",
    "        else: \n",
    "            indice = indice +1\n",
    "    if  len(indices_duplicados) != 0:\n",
    "        print(\"Las palabras'\", duplicado_1,\"-\", duplicado_2,\"-\", duplicado_3, \"' se encuentran duplicadas en los siguientes indices: \", indices_duplicados,\". A continuación, el detalle:\")\n",
    "        for elemento in indices_duplicados:\n",
    "            print(elemento,\"-\", ejer_3[elemento])\n",
    "    else: \n",
    "        print (\"Las palabras '\",duplicado_1,\"-\", duplicado_2,\"-\", duplicado_3, \"' no se encuentran dentro de la lista.\")\n",
    "\n",
    "buscar_duplicado(\"es\",\"un\",\"binario\")\n",
    "buscar_duplicado(\"es\",\"un\",\"coma\")\n",
    "buscar_duplicado(\"lona\",\"forma\",\"coma\")"
   ]
  },
  {
   "cell_type": "markdown",
   "metadata": {
    "id": "xZ-sWJxPRWxJ"
   },
   "source": [
    "## Ejercicio 11\n",
    "Convierte el programa del ejercicio 9 en una función al que se le pasen como argumentos la librería, posicional, y el título, argumento keyword con valor \"ninguno\", por defecto."
   ]
  },
  {
   "cell_type": "code",
   "execution_count": null,
   "metadata": {
    "id": "4-JrsMdNRWxK"
   },
   "outputs": [],
   "source": [
    "#Teniendo en cuenta lo que yo hice en el ejericio 9, no entiendo exactamente la intruccion. Tal vez interpreté mal el ejercicio 9. "
   ]
  },
  {
   "cell_type": "markdown",
   "metadata": {
    "id": "FtJir95QRWxK"
   },
   "source": [
    "## Ejercicio 12\n",
    "Solicitar al usuario que ingrese su dirección email. Imprimir un mensaje indicando si la dirección es válida o no, valiéndose de una función para decidirlo. Una dirección se considerará válida si contiene el símbolo \"@\"."
   ]
  },
  {
   "cell_type": "code",
   "execution_count": 26,
   "metadata": {
    "id": "sk852IZ8RWxK"
   },
   "outputs": [
    {
     "name": "stdin",
     "output_type": "stream",
     "text": [
      "Hola, por favor, ingresa tu correo electónico tomas@gmail.com\n"
     ]
    },
    {
     "name": "stdout",
     "output_type": "stream",
     "text": [
      "Perfecto, muchas gracias por ingresar un email válido\n"
     ]
    }
   ],
   "source": [
    "email = input(\"Hola, por favor, ingresa tu correo electónico\")\n",
    "\n",
    "if \"@\" in email:\n",
    "    print(\"Perfecto, muchas gracias por ingresar un email válido\")\n",
    "else:\n",
    "    print(\"Error. Correo electrónico inválido\")"
   ]
  },
  {
   "cell_type": "markdown",
   "metadata": {
    "id": "Kw1MWBwBRWxK"
   },
   "source": [
    "## Ejercicio 13\n",
    "Escribe una función que compruebe si un DNI es válido, devolviendo `True` en caso afirmativo.  \n",
    "En primer lugar, el DNI debe tener entre 7 y 8 dígitos numéricos.  \n",
    "Para saber si la letra del DNI es correcta puedes utilizar el siguiente fragmento de código:\n",
    ">```Python\n",
    ">DNI= 55555555\n",
    ">palabra='TRWAGMYFPDXBNJZSQVHLCKE'\n",
    ">print('La letra del DNI es: ', palabra[DNI%23])\n",
    ">````\n"
   ]
  },
  {
   "cell_type": "code",
   "execution_count": 29,
   "metadata": {},
   "outputs": [],
   "source": [
    "def comprobacion_dni (dni_completo):\n",
    "    dni_lista = list(dni_completo)\n",
    "    dni = \"\"\n",
    "    letra = dni_lista[len(dni_lista)-1]\n",
    "    \n",
    "    for elemento in dni_lista[0:len(dni_lista)-1]:\n",
    "        dni = dni + elemento\n",
    "    if dni.isnumeric() == False or letra.isalpha() == False or len(dni) < 7 or len(dni) > 8:\n",
    "        print(\"Los DNI deben tener entre 7 u 8 números y una letra al final\")\n",
    "    else: \n",
    "        dni = int(dni)\n",
    "        letra = letra.upper()\n",
    "        palabra='TRWAGMYFPDXBNJZSQVHLCKE'\n",
    "        if letra != palabra[dni%23]:\n",
    "            print (\"La letra introducida es incorrecta\")\n",
    "        else:\n",
    "            print(\"El DNI introducido es válido\")"
   ]
  },
  {
   "cell_type": "code",
   "execution_count": 30,
   "metadata": {},
   "outputs": [
    {
     "name": "stdin",
     "output_type": "stream",
     "text": [
      "Por favor, ingresa tu numero de DNI 4526859t\n"
     ]
    },
    {
     "name": "stdout",
     "output_type": "stream",
     "text": [
      "La letra introducida es incorrecta\n"
     ]
    }
   ],
   "source": [
    "dni_completo = input(\"Por favor, ingresa tu numero de DNI\")\n",
    "comprobacion_dni(dni_completo)"
   ]
  }
 ],
 "metadata": {
  "colab": {
   "provenance": []
  },
  "kernelspec": {
   "display_name": "Python 3 (ipykernel)",
   "language": "python",
   "name": "python3"
  },
  "language_info": {
   "codemirror_mode": {
    "name": "ipython",
    "version": 3
   },
   "file_extension": ".py",
   "mimetype": "text/x-python",
   "name": "python",
   "nbconvert_exporter": "python",
   "pygments_lexer": "ipython3",
   "version": "3.13.7"
  }
 },
 "nbformat": 4,
 "nbformat_minor": 4
}
