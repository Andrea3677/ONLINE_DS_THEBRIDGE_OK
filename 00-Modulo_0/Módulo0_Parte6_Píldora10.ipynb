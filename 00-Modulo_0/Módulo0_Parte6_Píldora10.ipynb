{
 "cells": [
  {
   "cell_type": "markdown",
   "metadata": {
    "id": "tVvQtxHoIc-a"
   },
   "source": [
    "###### ![TheBridge_Python_v0.png](attachment:TheBridge_Python_v0.png)"
   ]
  },
  {
   "cell_type": "markdown",
   "metadata": {
    "id": "610RhUR8Ic-b"
   },
   "source": [
    "##  Argumentos clave-valor"
   ]
  },
  {
   "cell_type": "markdown",
   "metadata": {
    "id": "mIw83rOZIc-c"
   },
   "source": [
    "### Contenidos"
   ]
  },
  {
   "cell_type": "markdown",
   "metadata": {
    "id": "Z3WdyLQ4Ic-c"
   },
   "source": [
    "* [Combinar `*args` con `**kwargs`](#Combinar-`*args`-con-`**kwargs`)\n",
    "* [Argumentos keyword](#Argumentos-keyword)\n"
   ]
  },
  {
   "cell_type": "markdown",
   "metadata": {
    "id": "a0BSryWEIc-c"
   },
   "source": [
    "\n",
    "Para terminar con las diferentes posibilidades que ofrecen los argumentos de las funciones, vamos a tratar los argumentos clave-valor.  \n",
    "\n",
    "Es decir, tenemos también la opción de introducir un diccionario como argumentos, de esta forma, aunque el numero de argumentos sea variable, tendremos un inidicador, la clave, y el valor de cada clave.\n",
    "\n",
    "Se implementa con `**`"
   ]
  },
  {
   "cell_type": "code",
   "execution_count": 8,
   "metadata": {
    "id": "KADnAb3XIc-d"
   },
   "outputs": [
    {
     "name": "stdout",
     "output_type": "stream",
     "text": [
      "<class 'dict'>\n",
      "{'modelo': 'S20', 'marca': 'Samsung', 'camara': '24MP'}\n"
     ]
    }
   ],
   "source": [
    "def inserta_movil_bd (**clave_valor):\n",
    "    print (type (clave_valor))\n",
    "    print (clave_valor)\n",
    "\n",
    "inserta_movil_bd (modelo = \"S20\", marca = \"Samsung\", camara = \"24MP\")"
   ]
  },
  {
   "cell_type": "code",
   "execution_count": 15,
   "metadata": {},
   "outputs": [
    {
     "name": "stdout",
     "output_type": "stream",
     "text": [
      "modelo : S20\n",
      "marca : Samsung\n",
      "camara : 24MP\n",
      "flip : True\n"
     ]
    }
   ],
   "source": [
    "def inserta_movil_bd(**kwargs):\n",
    "    for clave,valor in kwargs.items():\n",
    "        #insertar (clave, valor)\n",
    "        print (clave, \":\", valor)\n",
    "\n",
    "inserta_movil_bd (modelo = \"S20\", marca = \"Samsung\", camara = \"24MP\", flip = True)"
   ]
  },
  {
   "cell_type": "markdown",
   "metadata": {
    "id": "8gFLNrenIc-d"
   },
   "source": [
    "### Combinar `*args` con `**kwargs`\n",
    "[al indice](#Contenidos)  \n",
    "No hay ningun problema en tener un numero variable de argumentos y también argumentos clave-valor, todo ello en la misma función."
   ]
  },
  {
   "cell_type": "code",
   "execution_count": 18,
   "metadata": {
    "id": "yRMins7sIc-d"
   },
   "outputs": [
    {
     "name": "stdout",
     "output_type": "stream",
     "text": [
      "<class 'tuple'>\n",
      "Es muy bueno\n",
      "No dura mucho la bateria\n",
      "<class 'dict'>\n",
      "modelo S20\n",
      "marca Samsung\n",
      "camara 24MP\n",
      "flip True\n"
     ]
    }
   ],
   "source": [
    "def inserta_movil (*args, **kwargs):\n",
    "    print (type (args))\n",
    "    for i in args:\n",
    "        print (i)\n",
    "\n",
    "    print (type(kwargs))\n",
    "    for clave, valor in kwargs.items():\n",
    "        print (clave, valor)\n",
    "\n",
    "inserta_movil (\"Es muy bueno\", \"No dura mucho la bateria\", modelo = \"S20\", marca = \"Samsung\", camara = \"24MP\", flip = True)"
   ]
  },
  {
   "cell_type": "code",
   "execution_count": 19,
   "metadata": {},
   "outputs": [
    {
     "ename": "SyntaxError",
     "evalue": "arguments cannot follow var-keyword argument (3929699152.py, line 1)",
     "output_type": "error",
     "traceback": [
      "  \u001b[36mCell\u001b[39m\u001b[36m \u001b[39m\u001b[32mIn[19]\u001b[39m\u001b[32m, line 1\u001b[39m\n\u001b[31m    \u001b[39m\u001b[31mdef test (**kwargs, *args):\u001b[39m\n                        ^\n\u001b[31mSyntaxError\u001b[39m\u001b[31m:\u001b[39m arguments cannot follow var-keyword argument\n"
     ]
    }
   ],
   "source": [
    "def test (**kwargs, *args):\n",
    "    print(\"test\")"
   ]
  },
  {
   "cell_type": "markdown",
   "metadata": {
    "id": "JlpI4qb8Ic-e"
   },
   "source": [
    "### Argumentos keyword\n",
    "[al indice](#Contenidos)  \n",
    "Existe otro tipo de argumentos que son los *keyword*. Se caracterizan porque llevan un valor por defecto, y por tanto, si no usamos dicho argumento en la llamada, dentro de la función tomará el valor que hayamos dejado por defecto.\n",
    "\n",
    "Ten en cuenta que estos argumentos se colocan **al final**"
   ]
  },
  {
   "cell_type": "code",
   "execution_count": 20,
   "metadata": {
    "id": "mcuZ6_tUIc-e"
   },
   "outputs": [
    {
     "data": {
      "text/plain": [
       "12.65"
      ]
     },
     "execution_count": 20,
     "metadata": {},
     "output_type": "execute_result"
    }
   ],
   "source": [
    "round (12.654546, 2)"
   ]
  },
  {
   "cell_type": "code",
   "execution_count": 25,
   "metadata": {},
   "outputs": [
    {
     "data": {
      "text/plain": [
       "[82, 65, 56, 12, 6, 1]"
      ]
     },
     "execution_count": 25,
     "metadata": {},
     "output_type": "execute_result"
    }
   ],
   "source": [
    "sorted ([12,56,82,1,6,65], reverse =True)"
   ]
  },
  {
   "cell_type": "code",
   "execution_count": 26,
   "metadata": {},
   "outputs": [
    {
     "name": "stdout",
     "output_type": "stream",
     "text": [
      "Su pedido de Televisión LG se entregará el 12/12/2023\n",
      "Pongase en contacto con atención al cliente\n",
      "Su pedido de Televisión LG se entregará el 12/12/2023\n"
     ]
    }
   ],
   "source": [
    "def pedido_online (pedido, fecha, incidencia = False):\n",
    "    if incidencia == True:\n",
    "        print (\"Pongase en contacto con atención al cliente\")\n",
    "    print (\"Su pedido de\", pedido, \"se entregará el\", fecha)\n",
    "\n",
    "pedido_online (\"Televisión LG\", \"12/12/2023\")\n",
    "pedido_online (\"Televisión LG\", \"12/12/2023\", incidencia = True)\n"
   ]
  },
  {
   "cell_type": "markdown",
   "metadata": {
    "id": "PpyuHvRgIc-e"
   },
   "source": [
    "<table align=\"left\">\n",
    " <tr>\n",
    "     <td style=\"text-align:left\">\n",
    "         <h3>ERRORES con argumentos keyword</h3>\n",
    "         \n",
    " </td></tr>\n",
    "</table>"
   ]
  },
  {
   "cell_type": "code",
   "execution_count": 27,
   "metadata": {
    "id": "Jtca0RC0Ic-e"
   },
   "outputs": [
    {
     "ename": "SyntaxError",
     "evalue": "parameter without a default follows parameter with a default (411256685.py, line 1)",
     "output_type": "error",
     "traceback": [
      "  \u001b[36mCell\u001b[39m\u001b[36m \u001b[39m\u001b[32mIn[27]\u001b[39m\u001b[32m, line 1\u001b[39m\n\u001b[31m    \u001b[39m\u001b[31mdef pedido_online (pedido, incidencia = False, fecha):\u001b[39m\n                                                   ^\n\u001b[31mSyntaxError\u001b[39m\u001b[31m:\u001b[39m parameter without a default follows parameter with a default\n"
     ]
    }
   ],
   "source": [
    "def pedido_online (pedido, incidencia = False, fecha):\n",
    "    if incidencia == True:\n",
    "        print (\"Pongase en contacto con atención al cliente\")\n",
    "    print (\"Su pedido de\", pedido, \"se entregará el\", fecha)"
   ]
  }
 ],
 "metadata": {
  "colab": {
   "provenance": []
  },
  "kernelspec": {
   "display_name": "Python 3 (ipykernel)",
   "language": "python",
   "name": "python3"
  },
  "language_info": {
   "codemirror_mode": {
    "name": "ipython",
    "version": 3
   },
   "file_extension": ".py",
   "mimetype": "text/x-python",
   "name": "python",
   "nbconvert_exporter": "python",
   "pygments_lexer": "ipython3",
   "version": "3.13.7"
  }
 },
 "nbformat": 4,
 "nbformat_minor": 4
}
