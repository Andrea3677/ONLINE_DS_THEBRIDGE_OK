{
 "cells": [
  {
   "cell_type": "markdown",
   "metadata": {
    "id": "MDKJsY9RQ8ss"
   },
   "source": [
    "![TheBridge_Python_v0.png](attachment:TheBridge_Python_v0.png)"
   ]
  },
  {
   "cell_type": "markdown",
   "metadata": {
    "id": "A_N91GzxQ8st"
   },
   "source": [
    "## Colecciones Python: Sets\n"
   ]
  },
  {
   "cell_type": "markdown",
   "metadata": {
    "id": "10Bupvl0Q8su"
   },
   "source": [
    "### Contenidos\n"
   ]
  },
  {
   "cell_type": "markdown",
   "metadata": {
    "id": "gSw5-3jUQ8sv"
   },
   "source": [
    "* [Introducción](#Introducción)\n",
    "\n"
   ]
  },
  {
   "cell_type": "markdown",
   "metadata": {
    "id": "EOPn7IUrQ8sv"
   },
   "source": [
    "### Introducción\n",
    "[al indice](#Contenidos)  \n",
    "\n",
    "Otra colección *bulit-in* de Python, compuesta por un conjunto de *valores*. Muy parecidos a las listas. Tienen las siguientes características:\n",
    "* **Mutables**: podemos modificarlos una vez se hayan creado\n",
    "* **No ordenado**\n",
    "* **Elementos unicos**: se compone de un conjunto de valores únicas\n",
    "\n",
    "**¿Cuándo usar sets?** Cuando estemos buscando unicidad en nuestros datos y no nos importe el orden.\n",
    "\n",
    "Te dejo por aquí [la documentación](https://docs.python.org/2/library/sets.html) para realizar consultas sobre los sets\n",
    "\n",
    "Si sintaxis es:\n",
    ">```Python\n",
    "> mi_set = {elemento1, elemento2, elemento3}\n",
    ">```\n",
    "\n",
    "Tiene una sintaxis muy parecida a la de las listas, pero en este caso no se utilizan los `{}`."
   ]
  },
  {
   "cell_type": "code",
   "execution_count": 3,
   "metadata": {
    "id": "PCE33tEEQ8sw"
   },
   "outputs": [
    {
     "name": "stdout",
     "output_type": "stream",
     "text": [
      "4\n",
      "{'naranja', 'azul', 'verde', 'rojo'}\n",
      "<class 'set'>\n"
     ]
    }
   ],
   "source": [
    "colores = {\"azul\", \"rojo\",\"verde\", \"naranja\", \"azul\", \"verde\"} #pueden tener valores duplicados pero no los va a tener en cuenta\n",
    "print (len(colores)) # no tiene en cuanta los valores duplicados, donde deberia dar 6, da 4 porque azul y verde estan repetidos\n",
    "print (colores)\n",
    "print (type(colores))"
   ]
  },
  {
   "cell_type": "markdown",
   "metadata": {
    "id": "iR5pliToQ8sx"
   },
   "source": [
    "Los elementos del set son unicos, por lo que si en la declaración, o posteriormente añadiendo elementos hubiese algún duplicado, el set lo ignoraría. Es más, cuando aplicas el `len`, muestra la cantidad de valores únicos que tiene."
   ]
  },
  {
   "cell_type": "code",
   "execution_count": 8,
   "metadata": {
    "id": "cw6yefS5Q8sx"
   },
   "outputs": [
    {
     "name": "stdout",
     "output_type": "stream",
     "text": [
      "{'burdeos', 'rojo', 'magenta', 'celeste', 'azul', 'verde'}\n",
      "{'naranja', 'burdeos', 'rojo', 'magenta', 'celeste', 'azul', 'verde'}\n",
      "{'burdeos', 'rojo', 'magenta', 'celeste', 'azul', 'verde'}\n",
      "burdeos\n",
      "rojo\n",
      "magenta\n",
      "celeste\n",
      "azul\n",
      "verde\n"
     ]
    }
   ],
   "source": [
    "# añadir valores\n",
    "\n",
    "colores.add(\"magenta\")\n",
    "print (colores)\n",
    "\n",
    "colores.update([\"celeste\",\"burdeos\", \"naranja\"])# para añadir mas de un valor a la vez\n",
    "print (colores)\n",
    "\n",
    "#quitar elementos\n",
    "colores.remove(\"naranja\")\n",
    "print (colores)\n",
    "\n",
    "#son iterables \n",
    "for color in colores: \n",
    "    print(color)"
   ]
  },
  {
   "cell_type": "markdown",
   "metadata": {
    "id": "Y1ST_865Q8sx"
   },
   "source": [
    "Para comprobar si dos sets tienen los mismos elementos"
   ]
  },
  {
   "cell_type": "code",
   "execution_count": 11,
   "metadata": {
    "id": "wjPbdun5Q8sy",
    "scrolled": true
   },
   "outputs": [
    {
     "data": {
      "text/plain": [
       "True"
      ]
     },
     "execution_count": 11,
     "metadata": {},
     "output_type": "execute_result"
    }
   ],
   "source": [
    "set_1 = {1,2,4,4,2,1,2,1}\n",
    "set_2 = {2,1,4}\n",
    "\n",
    "set_1 == set_2"
   ]
  },
  {
   "cell_type": "code",
   "execution_count": 18,
   "metadata": {},
   "outputs": [
    {
     "name": "stdout",
     "output_type": "stream",
     "text": [
      "{32, 100, 10, 45, 15, 23}\n",
      "[32, 100, 10, 45, 15, 23]\n",
      "[100, 10, 23, 23, 15, 32, 45, 10, 100, 23]\n",
      "[32, 100, 10, 45, 15, 23]\n"
     ]
    }
   ],
   "source": [
    "#si tenemos una lista con valores duplicados podemos convertirla en set para eliminar los duplicados y despues volver a  convertir el resultado en lista\n",
    "lista_con = [100,10,23,23,15,32,45,10,100,23]\n",
    "\n",
    "#convertir en set\n",
    "print(set(lista_con))\n",
    "#convertir el resultado de la conversión a set en lista (anidado)\n",
    "print (list(set(lista_con)))\n",
    "print (lista_con)\n",
    "\n",
    "#asignar en nuevo valor sin duplicados a la lista\n",
    "lista_con = list(set(lista_con))\n",
    "print (lista_con)\n",
    "\n",
    "\n"
   ]
  }
 ],
 "metadata": {
  "colab": {
   "provenance": []
  },
  "kernelspec": {
   "display_name": "Python 3 (ipykernel)",
   "language": "python",
   "name": "python3"
  },
  "language_info": {
   "codemirror_mode": {
    "name": "ipython",
    "version": 3
   },
   "file_extension": ".py",
   "mimetype": "text/x-python",
   "name": "python",
   "nbconvert_exporter": "python",
   "pygments_lexer": "ipython3",
   "version": "3.13.7"
  }
 },
 "nbformat": 4,
 "nbformat_minor": 4
}
