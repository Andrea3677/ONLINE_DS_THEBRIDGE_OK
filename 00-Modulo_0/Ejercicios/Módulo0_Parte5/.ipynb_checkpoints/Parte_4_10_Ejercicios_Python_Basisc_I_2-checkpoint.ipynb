{
 "cells": [
  {
   "cell_type": "markdown",
   "metadata": {
    "id": "GB2K42EgK9q5"
   },
   "source": [
    "![TheBridge_logo_RGB_color.jpg](attachment:TheBridge_logo_RGB_color.jpg)"
   ]
  },
  {
   "cell_type": "markdown",
   "metadata": {
    "id": "GnwVlO37K9q6"
   },
   "source": [
    "![imagen](./img/ejercicios.png)"
   ]
  },
  {
   "cell_type": "markdown",
   "metadata": {
    "id": "_9pTa0PXK9q6"
   },
   "source": [
    "## EJERCICIOS PYTHON BASICO 2:\n",
    "## Tipos y conversión de tipos"
   ]
  },
  {
   "cell_type": "markdown",
   "metadata": {
    "id": "tYmV-veoK9q6"
   },
   "source": [
    "Completa los siguiente ejercicios, la solución a los mismos se publicarán en el repo del curso a lo largo del sprint"
   ]
  },
  {
   "cell_type": "markdown",
   "metadata": {
    "id": "YAdFbIOXK9q7"
   },
   "source": [
    "![ejercicio.png](./img/ejercicio.png)\n",
    "\n",
    "## Ejercicio 1\n",
    "\n",
    "1. Crea dos variables numericas: un `int` y un `float`\n",
    "2. Comprueba sus tipos\n",
    "3. Sumalas en otra nueva\n",
    "4. ¿De qué tipo es la nueva variable?\n",
    "5. Elimina las dos primeras variables creadas"
   ]
  },
  {
   "cell_type": "code",
   "execution_count": 5,
   "metadata": {
    "id": "8QZmuLOsK9q7"
   },
   "outputs": [
    {
     "name": "stdout",
     "output_type": "stream",
     "text": [
      "Ejercicio 1-2:\n",
      "3 <class 'int'>\n",
      "5.269 <class 'float'>\n",
      "Ejercicio 1-3:\n",
      "8.269\n",
      "Ejercicio 1-4:\n",
      "8.269 <class 'float'>\n",
      "Ejercicio 1-5:\n"
     ]
    },
    {
     "ename": "NameError",
     "evalue": "name 'entero' is not defined",
     "output_type": "error",
     "traceback": [
      "\u001b[31m---------------------------------------------------------------------------\u001b[39m",
      "\u001b[31mNameError\u001b[39m                                 Traceback (most recent call last)",
      "\u001b[36mCell\u001b[39m\u001b[36m \u001b[39m\u001b[32mIn[5]\u001b[39m\u001b[32m, line 19\u001b[39m\n\u001b[32m     17\u001b[39m \u001b[38;5;28;01mdel\u001b[39;00m entero\n\u001b[32m     18\u001b[39m \u001b[38;5;28;01mdel\u001b[39;00m decimal\n\u001b[32m---> \u001b[39m\u001b[32m19\u001b[39m \u001b[38;5;28mprint\u001b[39m (\u001b[43mentero\u001b[49m,decimal)\n",
      "\u001b[31mNameError\u001b[39m: name 'entero' is not defined"
     ]
    }
   ],
   "source": [
    "#Ejercicio 1-1\n",
    "entero = 3\n",
    "decimal = 5.269\n",
    "\n",
    "print (\"Ejercicio 1-2:\")\n",
    "print(entero, type(entero))\n",
    "print (decimal, type(decimal))\n",
    "\n",
    "print (\"Ejercicio 1-3:\")\n",
    "suma = entero + decimal\n",
    "print(suma)\n",
    "\n",
    "print (\"Ejercicio 1-4:\")\n",
    "print(suma, type(suma))\n",
    "\n",
    "print (\"Ejercicio 1-5:\")\n",
    "del entero\n",
    "del decimal\n",
    "print (entero,decimal)"
   ]
  },
  {
   "cell_type": "markdown",
   "metadata": {
    "id": "f5xfpkpQK9q7"
   },
   "source": [
    "![ejercicio.png](./img/ejercicio.png)\n",
    "\n",
    "## Ejercicio 2\n",
    "Escribe un programa para pasar de grados a radianes. Hay que usar `input`. Recuerda que la conversión se realiza mediante\n",
    "\n",
    "radianes = grados*(pi/180)"
   ]
  },
  {
   "cell_type": "code",
   "execution_count": 27,
   "metadata": {
    "id": "V50TUQMzK9q7"
   },
   "outputs": [
    {
     "name": "stdin",
     "output_type": "stream",
     "text": [
      "Escribe la cantidad de grados que quieras convertir a radianes: 1356\n"
     ]
    },
    {
     "name": "stdout",
     "output_type": "stream",
     "text": [
      "1356 grados equivalen a: 23.6547 radianes. El resultado fue redondeado a 4 decimales\n"
     ]
    },
    {
     "name": "stdin",
     "output_type": "stream",
     "text": [
      "Le gustaría tener el número sin redondear? no\n"
     ]
    },
    {
     "name": "stdout",
     "output_type": "stream",
     "text": [
      "Encantado de haberte ayudado, hasta la próxima :).\n"
     ]
    }
   ],
   "source": [
    "#declaro la variable grados pidiendo al usuario que asigne su valor\n",
    "grados = input(\"Escribe la cantidad de grados que quieras convertir a radianes:\")\n",
    "\n",
    "#El input es una strig, la convierto en entero para poder hacer el cálculo\n",
    "radianes = int(grados)*(3.14/180)\n",
    "print (grados, \"grados equivalen a:\", round(radianes,4), \"radianes. El resultado fue redondeado a 4 decimales\")\n",
    "\n",
    "\n",
    "respuesta = input(\"Le gustaría tener el número sin redondear?\")\n",
    "\n",
    "if respuesta == \"si\":\n",
    "    print( \"Radianes sin rendondear:\", radianes)\n",
    "else:\n",
    "    print (\"Encantado de haberte ayudado, hasta la próxima :).\")\n"
   ]
  },
  {
   "cell_type": "markdown",
   "metadata": {
    "id": "zX3-p58CK9q7"
   },
   "source": [
    "![ejercicio.png](./img/ejercicio.png)\n",
    "\n",
    "## Ejercicio 3\n",
    "Escribe un programa que calcule el area de un paralelogramo (base x altura). También con `input`"
   ]
  },
  {
   "cell_type": "code",
   "execution_count": 30,
   "metadata": {
    "id": "s2QfNiBAK9q7"
   },
   "outputs": [
    {
     "name": "stdin",
     "output_type": "stream",
     "text": [
      "Veo que quieres calcular el area de un paralelogramo, por favor, ingresa el valor de su base 4546\n",
      "Por favor, ahora ingresa el valor de la altura del paralelogramo 6546\n"
     ]
    },
    {
     "name": "stdout",
     "output_type": "stream",
     "text": [
      "Si la base de un paralelogramo es: 4546 y su altura es: 6546 . Entonces su area será: 29758116\n"
     ]
    }
   ],
   "source": [
    "#declaro las dos variables necesarias para calcular el area, pidiendo al usuario que agregue los valores\n",
    "base = input(\"Veo que quieres calcular el area de un paralelogramo, por favor, ingresa el valor de su base\")\n",
    "altura = input (\"Por favor, ahora ingresa el valor de la altura del paralelogramo\")\n",
    "\n",
    "# Convierto los strings a números enteros\n",
    "base_int = int(base)\n",
    "altura_int = int(altura)\n",
    "\n",
    "#Cálculo el area y le asigno una variable\n",
    "area = base_int * altura_int\n",
    "\n",
    "print (\"Si la base de un paralelogramo es:\", base_int, \"y su altura es:\", altura_int, \". Entonces su area será:\", area)\n",
    "\n"
   ]
  },
  {
   "cell_type": "markdown",
   "metadata": {
    "id": "-6TBo_HvK9q8"
   },
   "source": [
    "![ejercicio.png](./img/ejercicio.png)\n",
    "\n",
    "## Ejercicio 4\n",
    "Escribe un programa que calcule el area de un paralelogramo (base x altura). También con `input`. En este caso debe ser capaz de admitir valores reales, con decimales, para base y altura en español. (PISTA: Recuerda que tendrás que hacer uso del método replace)"
   ]
  },
  {
   "cell_type": "code",
   "execution_count": 37,
   "metadata": {
    "id": "uzUIa1JqK9q8"
   },
   "outputs": [
    {
     "name": "stdin",
     "output_type": "stream",
     "text": [
      "Veo que quieres calcular el area de un paralelogramo, por favor, ingresa el valor de su base 12,5\n",
      "Por favor, ahora ingresa el valor de la altura del paralelogramo 12,5\n"
     ]
    },
    {
     "name": "stdout",
     "output_type": "stream",
     "text": [
      "Si la base de un paralelogramo es: 12.5 y su altura es: 12.5 . Entonces su area será: 156.25\n"
     ]
    }
   ],
   "source": [
    "#declaro las dos variables necesarias para calcular el area, pidiendo al usuario que agregue los valores\n",
    "base = input(\"Veo que quieres calcular el area de un paralelogramo, por favor, ingresa el valor de su base\")\n",
    "altura = input (\"Por favor, ahora ingresa el valor de la altura del paralelogramo\")\n",
    "\n",
    "# Replazo las comas por puntos y convierto los strings a números floats\n",
    "base_float = float(base.replace(\",\",\".\"))\n",
    "altura_float = float(altura.replace(\",\",\".\"))\n",
    "\n",
    "#Cálculo el area y le asigno una variable\n",
    "area = base_float * altura_float\n",
    "\n",
    "print (\"Si la base de un paralelogramo es:\", base_float, \"y su altura es:\", altura_float, \". Entonces su area será:\", area)\n"
   ]
  },
  {
   "cell_type": "code",
   "execution_count": 36,
   "metadata": {},
   "outputs": [
    {
     "name": "stdin",
     "output_type": "stream",
     "text": [
      "Veo que quieres calcular el area de un paralelogramo, por favor, ingresa el valor de su base 12,5\n",
      "Por favor, ahora ingresa el valor de la altura del paralelogramo 12,5\n"
     ]
    },
    {
     "name": "stdout",
     "output_type": "stream",
     "text": [
      "Si la base de un paralelogramo es: 12.5 y su altura es: 12.5 . Entonces su area será: 156.25\n"
     ]
    }
   ],
   "source": [
    "\n",
    "##El mismo código de arriba pero anidado. \n",
    "base = float (input(\"Veo que quieres calcular el area de un paralelogramo, por favor, ingresa el valor de su base\").replace(\",\",\".\"))\n",
    "altura = float (input (\"Por favor, ahora ingresa el valor de la altura del paralelogramo\").replace(\",\",\".\"))\n",
    "\n",
    "#Cálculo el area y le asigno una variable\n",
    "area = base_int * altura_int\n",
    "\n",
    "print (\"Si la base de un paralelogramo es:\", base_int, \"y su altura es:\", altura_int, \". Entonces su area será:\", area)"
   ]
  },
  {
   "cell_type": "markdown",
   "metadata": {
    "id": "5zKugi5iK9q8"
   },
   "source": [
    "![ejercicio.png](./img/ejercicio.png)\n",
    "\n",
    "## Ejercicio 5\n",
    "Complete el siguiente código para solicitar al usuario su nombre y su edad. Luego, calcule en qué año nació el usuario y muestre el resultado."
   ]
  },
  {
   "cell_type": "code",
   "execution_count": 38,
   "metadata": {
    "id": "LISfTnRkK9q8"
   },
   "outputs": [
    {
     "name": "stdin",
     "output_type": "stream",
     "text": [
      "¿Cuál es tu nombre?  Josefina\n",
      "¿Cuál es tu edad?  33\n"
     ]
    },
    {
     "name": "stdout",
     "output_type": "stream",
     "text": [
      "Josefina, naciste en el año 1992.\n"
     ]
    }
   ],
   "source": [
    "nombre = input(\"¿Cuál es tu nombre? \")\n",
    "edad = int(input(\"¿Cuál es tu edad? \"))\n",
    "año_actual = 2025  # Puedes cambiarlo según el año en curso\n",
    "año_nacimiento = año_actual - edad\n",
    "\n",
    "print(f\"{nombre}, naciste en el año {año_nacimiento}.\")\n"
   ]
  }
 ],
 "metadata": {
  "colab": {
   "provenance": []
  },
  "kernelspec": {
   "display_name": "Python 3 (ipykernel)",
   "language": "python",
   "name": "python3"
  },
  "language_info": {
   "codemirror_mode": {
    "name": "ipython",
    "version": 3
   },
   "file_extension": ".py",
   "mimetype": "text/x-python",
   "name": "python",
   "nbconvert_exporter": "python",
   "pygments_lexer": "ipython3",
   "version": "3.13.7"
  }
 },
 "nbformat": 4,
 "nbformat_minor": 4
}
