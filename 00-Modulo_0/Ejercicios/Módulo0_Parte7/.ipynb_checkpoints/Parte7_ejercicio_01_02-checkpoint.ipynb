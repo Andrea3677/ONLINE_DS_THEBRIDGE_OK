{
 "cells": [
  {
   "cell_type": "markdown",
   "metadata": {
    "id": "vigJnuAMSU4x"
   },
   "source": [
    "![TheBridge_logo_RGB_color.jpg](attachment:TheBridge_logo_RGB_color.jpg)"
   ]
  },
  {
   "cell_type": "markdown",
   "metadata": {
    "id": "2xmnwM17SU4y"
   },
   "source": [
    "![ejercicios.png](attachment:ejercicios.png)"
   ]
  },
  {
   "cell_type": "markdown",
   "metadata": {
    "id": "liorA-1ZSU4y"
   },
   "source": [
    "# Ejercicios Clases y Objetos"
   ]
  },
  {
   "cell_type": "markdown",
   "metadata": {
    "id": "5xXUz5l9SU4z"
   },
   "source": [
    "## Ejercicio 1\n",
    "Somos una empresa que tiene varias tiendas de electrodomesticos. Necesitamos un programa para manejar las tiendas, ver las ventas que han tenido, cuántos empleados hay, etc... Para ello vamos a modelizar la tienda en una clase, que tendrá las siguientes características:\n",
    "* Nombre clase: \"Tienda\"\n",
    "* Atributos comunes:\n",
    "    * Tipo: \"Electrodomésticos\"\n",
    "    * Abierta: True\n",
    "* Atributos propios de cada tienda:\n",
    "    * Nombre - String\n",
    "    * Dirección - String\n",
    "    * Número de empleados - int\n",
    "    * Ventas ultimos 3 meses - Lista de 3 numeros\n",
    "* Método para calcular las ventas de todos los meses, que devuelva un numero con todas las ventas.\n",
    "* Método que calcula la media de ventas de los ultimos meses, por empleado\n",
    "* Método que devuelve en un string el nombre de la tienda, junto con su dirección.\n",
    "* Método que obtiene las ventas del último mes.\n",
    "* Método para dar una proyección de las ventas en caso de haber invertido X dinero en marketing en esa tienda. Siendo X el parámetro de entrada. Si X es menor de 1000, las ventas de los ultimos 3 meses hubiesen sido de (1.2 x ventas), si es mayor o igual de 1000, las ventas hubiesen sido de (1.5 x venta). El método reescribe el atributo de ventas en los últimos 3 meses, y además devuelve las ventas con el aumento.\n",
    "\n",
    "Se pide:\n",
    "1. Implementar la clase \"Tienda\"\n",
    "2. Crear tres tiendas con datos inventados\n",
    "3. Comprueba en al menos una de ellas, todo lo implementado en la clase tienda (sus atributos, media de ventas, ventas/empleado...)\n",
    "3. Calcular las ventas del último mes de todas las tiendas. Para ello usa el bucle `for`\n",
    "4. Imprime por pantalla los nombres de las tiendas cuya dirección lleve el string \"Avenida\"\n",
    "5. Seguro que ya has hecho este apartado... Documenta la clase :)"
   ]
  },
  {
   "cell_type": "code",
   "execution_count": 6,
   "metadata": {
    "id": "5cLQcLxfSU4z"
   },
   "outputs": [],
   "source": [
    "#Ejercicio 1-1\n",
    "class Tienda:\n",
    "\n",
    "    def __init__(self, nombre_tienda, direccion_tienda, num_empleados, ventas_tienda, tipo_tienda = \"Electrodomésticos\", abierta = True):\n",
    "        self.nombre = nombre_tienda\n",
    "        self.direccion = direccion_tienda\n",
    "        self.empleados = num_empleados\n",
    "        self.ventas = ventas_tienda\n",
    "        self.tipo = tipo_tienda\n",
    "        self.abierta = abierta\n",
    "\n",
    "    def ventas_totales (self):\n",
    "        ventas_totales = 0\n",
    "        for ventas in self.ventas:\n",
    "            ventas_totales = ventas_totales + ventas\n",
    "        print(\"Las ventas hasta el momento son: \", ventas_totales)\n",
    "\n",
    "    def promedio_ventas(self):\n",
    "        ventas_totales = 0 \n",
    "        for ventas in self.ventas:\n",
    "            ventas_totales = ventas_totales + ventas\n",
    "        promedio = str(round(ventas_totales / self.empleados, 2))\n",
    "        print(\"El promedio de ventas por empleado es: \" + promedio)\n",
    "\n",
    "    def descripcion(self):\n",
    "        return \"Nombre de la tienda :\" + self.nombre +\". Dirección: \" + self.direccion\n",
    "\n",
    " #Suponiendo que las ventas se vayan agregando en la lista en orden, supongo que lo idea seria hacer una discconarioa por mes\n",
    "    \n",
    "    def ventas_ultimo_mes(self):\n",
    "        ventas = self.ventas\n",
    "        return \"Las ventas del ultimo mes fueron: \" + str(self.ventas[-1])\n",
    "\n",
    "    def proyeccion(self, inversion):\n",
    "        ventas = self.ventas[-1] + self.ventas[-2] + self.ventas[-3]\n",
    "        if inversion < 1000:\n",
    "            proyeccion = ventas * 1.2\n",
    "        else:\n",
    "            proyeccion = ventas * 1.5\n",
    "        return \"Ventas en los ultimos 3 meses: \" + str(ventas) + \". Proyección de ventas con dicha inversión: \" + str(proyeccion)\n",
    "\n",
    "    def ventas_tienda(self):\n",
    "        for ventas in self.ventas:\n",
    "            print(ventas)\n",
    "\n"
   ]
  },
  {
   "cell_type": "code",
   "execution_count": 11,
   "metadata": {
    "scrolled": true
   },
   "outputs": [
    {
     "name": "stdout",
     "output_type": "stream",
     "text": [
      "Electro Hogar\n",
      "Avenida San Martin de los Andes Nro. 4, Buenos Aires\n",
      "85\n",
      "[15230, 18500, 22200, 17250, 19650]\n",
      "Electrodomésticos\n",
      "True\n",
      "Las ventas hasta el momento son:  92830\n",
      "El promedio de ventas por empleado es: 1092.12\n",
      "Nombre de la tienda :Electro Hogar. Dirección: Avenida San Martin de los Andes Nro. 4, Buenos Aires\n",
      "Las ventas del ultimo mes fueron: 19650\n"
     ]
    },
    {
     "data": {
      "text/plain": [
       "'Ventas en los ultimos 3 meses: 59100. Proyección de ventas con dicha inversión: 88650.0'"
      ]
     },
     "execution_count": 11,
     "metadata": {},
     "output_type": "execute_result"
    }
   ],
   "source": [
    "#Ejercicio 1-2\n",
    "muebles = Tienda(\"Muebles\", \"Calle Margarita Nro. 15, Palencia\", 5, [1526,865,1356,2685] )\n",
    "electrohogar = Tienda (\"Electro Hogar\", \"Avenida San Martin de los Andes Nro. 4, Buenos Aires\", 85, [15230, 18500, 22200, 17250, 19650])\n",
    "tucasa = Tienda(\"Tu Casa\", \"Carretera N150, km 268, Pontevedra\", 15, [425,620,875, 150])\n",
    "\n",
    "#Ejercicio 1-3\n",
    "print (electrohogar.nombre)\n",
    "print (electrohogar.direccion)\n",
    "print (electrohogar.empleados)\n",
    "print (electrohogar.ventas)\n",
    "print (electrohogar.tipo)\n",
    "print (electrohogar.abierta)\n",
    "\n",
    "electrohogar.ventas_totales()\n",
    "electrohogar.promedio_ventas()\n",
    "print(electrohogar.descripcion())\n",
    "print(electrohogar.ventas_ultimo_mes())\n",
    "electrohogar.proyeccion(2500)\n",
    "\n"
   ]
  },
  {
   "cell_type": "code",
   "execution_count": 12,
   "metadata": {},
   "outputs": [
    {
     "name": "stdout",
     "output_type": "stream",
     "text": [
      "Muebles , ventas último mes: 2685\n",
      "Electro Hogar , ventas último mes: 19650\n",
      "Tu Casa , ventas último mes: 150\n",
      "Nombre: Electro Hogar - Dirección:  Avenida San Martin de los Andes Nro. 4, Buenos Aires\n"
     ]
    }
   ],
   "source": [
    "#Ejercicio 1-4\n",
    "todas_las_tiendas = [muebles, electrohogar, tucasa]  \n",
    "\n",
    "for tienda in todas_las_tiendas:\n",
    "    print (tienda.nombre, \", ventas último mes:\" , tienda.ventas[-1])\n",
    "\n",
    "#Ejercicio 1-5 \n",
    "\n",
    "for tienda in todas_las_tiendas:\n",
    "    if \"Avenida\" in tienda.direccion:\n",
    "        print(\"Nombre:\", tienda.nombre, \"- Dirección: \", tienda.direccion)\n"
   ]
  },
  {
   "cell_type": "markdown",
   "metadata": {
    "id": "WEBq7EpsSU40"
   },
   "source": [
    "## Ejercicio 2\n",
    "En este ejercicio vamos a implementar una clase *Perro* en Python. La clase tiene las siguientes características:\n",
    "* Cosas que sabemos seguro que tiene un perro\n",
    "    * Tiene 4 patas\n",
    "    * 2 orejas\n",
    "    * 2 ojos\n",
    "    * Una velocidad de 0. Por defecto, el perro está parado\n",
    "* Cuando se inicialice:\n",
    "    * El perro será de una determinada raza\n",
    "    * Por defecto tendrá pelo \"Marrón\", a no ser que se diga lo contrario.\n",
    "    * Por defecto no tendrá dueño, a no ser que se diga lo contrario.\n",
    "    \n",
    "* Dispondrá también de un método llamado andar, que tiene un argumento de entrada (aumento_velocidad). Este valor se le sumará a la velocidad que ya llevaba el perro.\n",
    "* Necesita otro método (parar), donde pondremos la velocidad a 0.\n",
    "* Otro método llamado \"ladrar\", que tendrá un argumento de entrada, y la salida será el siguiente string: \"GUAU!\" + el argumento de entrada.\n",
    "\n",
    "\n",
    "Se pide:\n",
    "* Implementa la clase *Perro*\n",
    "* Crea un objeto de tipo *Perro*, sin dueño\n",
    "* Comprueba que están bien todos sus atributos\n",
    "* Prueba que ande, y comprueba su velocidad\n",
    "* Páralo\n",
    "* Documenta la clase *Perro*"
   ]
  },
  {
   "cell_type": "code",
   "execution_count": 13,
   "metadata": {
    "id": "DpEWvbwGSU40"
   },
   "outputs": [],
   "source": [
    "class Perro:\n",
    "    patas = 4\n",
    "    orejas = 2\n",
    "    ojos = 2\n",
    "    velocidad = 0\n",
    "\n",
    "    def __init__(self, raza, pelo = \"Marrón\", dueño = True):\n",
    "        self.raza = raza\n",
    "        self.pelo = pelo\n",
    "        self.dueño = dueño\n",
    "\n",
    "    def andar(self, aumento_velocidad):\n",
    "        self.velocidad = self.velocidad + aumento_velocidad\n",
    "\n",
    "    def parar(self):\n",
    "        self.velocidad = 0\n",
    "\n",
    "    def ladrar(self, entrada):\n",
    "        return \"GUAU! \" + str(entrada) "
   ]
  },
  {
   "cell_type": "code",
   "execution_count": 15,
   "metadata": {},
   "outputs": [
    {
     "name": "stdout",
     "output_type": "stream",
     "text": [
      "4\n",
      "2\n",
      "2\n",
      "0\n",
      "Buldog\n",
      "Marrón\n",
      "False\n",
      "100\n",
      "0\n"
     ]
    },
    {
     "data": {
      "text/plain": [
       "'GUAU! 45'"
      ]
     },
     "execution_count": 15,
     "metadata": {},
     "output_type": "execute_result"
    }
   ],
   "source": [
    "buldog = Perro(\"Buldog\", dueño = False)\n",
    "\n",
    "print(buldog.patas)\n",
    "print(buldog.orejas)\n",
    "print(buldog.ojos)\n",
    "print(buldog.velocidad)\n",
    "print(buldog.raza)\n",
    "print(buldog.pelo)\n",
    "print(buldog.dueño)\n",
    "\n",
    "buldog.andar(100)\n",
    "print(buldog.velocidad)\n",
    "\n",
    "buldog.parar()\n",
    "print(buldog.velocidad)\n",
    "\n",
    "buldog.ladrar(45)"
   ]
  }
 ],
 "metadata": {
  "colab": {
   "provenance": []
  },
  "kernelspec": {
   "display_name": "Python 3 (ipykernel)",
   "language": "python",
   "name": "python3"
  },
  "language_info": {
   "codemirror_mode": {
    "name": "ipython",
    "version": 3
   },
   "file_extension": ".py",
   "mimetype": "text/x-python",
   "name": "python",
   "nbconvert_exporter": "python",
   "pygments_lexer": "ipython3",
   "version": "3.13.7"
  }
 },
 "nbformat": 4,
 "nbformat_minor": 4
}
