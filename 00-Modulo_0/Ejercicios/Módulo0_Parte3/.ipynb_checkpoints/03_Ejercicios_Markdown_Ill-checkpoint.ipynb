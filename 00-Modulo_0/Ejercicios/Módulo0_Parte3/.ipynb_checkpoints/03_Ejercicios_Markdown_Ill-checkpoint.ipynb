{
 "cells": [
  {
   "cell_type": "markdown",
   "id": "59ec229f",
   "metadata": {
    "id": "59ec229f"
   },
   "source": [
    "<img src=\"./img/TheBridge_logo_RGB_color.jpg\" width = 500>"
   ]
  },
  {
   "cell_type": "markdown",
   "id": "30a2c01b",
   "metadata": {
    "id": "30a2c01b"
   },
   "source": [
    "# EJERCICIOS MARKDOWN (I)\n",
    "\n",
    "> Añadir blockquote\n",
    "\n"
   ]
  },
  {
   "cell_type": "markdown",
   "id": "e165fb0c",
   "metadata": {
    "id": "e165fb0c"
   },
   "source": [
    "Aquí tienes cinco sencillos ejercicios para practicar lo aprendido en la primera sesión de Markdown. Utiliza las celdas que hay debajo de cada enunciado y recuerda convertirlas a Markdown primero ;-)"
   ]
  },
  {
   "cell_type": "markdown",
   "id": "5f74096f",
   "metadata": {
    "id": "5f74096f"
   },
   "source": [
    "\n",
    "\n",
    "### Ejercicio 1: Cabeceras\n",
    "Crea las siguientes cabeceras:\n",
    "\n",
    "1. Una cabecera de nivel 1 con el texto \"Ciencia de Datos\".\n",
    "2. Una cabecera de nivel 2 con el texto \"Introducción\".\n",
    "3. Una cabecera de nivel 3 con el texto \"Herramientas\"."
   ]
  },
  {
   "cell_type": "markdown",
   "id": "d2145901-921b-42d3-81ac-a2fb7f2b323e",
   "metadata": {},
   "source": [
    "# Ciencia de datos\n",
    "## Introducción\n",
    "### Herramientas"
   ]
  },
  {
   "cell_type": "markdown",
   "id": "4b636168",
   "metadata": {
    "id": "4b636168"
   },
   "source": [
    "### Ejercicio 2: Estilos de texto\n",
    "Escribe una frase que contenga las siguientes características:\n",
    "\n",
    "1. La palabra \"Markdown\" en negritas.\n",
    "2. La palabra \"Jupyter\" en cursivas.\n",
    "3. La palabra \"Python\" en negritas y cursivas."
   ]
  },
  {
   "cell_type": "markdown",
   "id": "99abbf5c-53ec-4bf7-8461-315558eafc1a",
   "metadata": {},
   "source": [
    "1. Existe un lenguaje de marcado ligero que permite escribir texto con formato usando símbolos sencillos y texto plano, se llama **Markdown**\n",
    "2. Aún no sé si tengo la versión correcta de *Jupyter*\n",
    "3. Estoy aprendiendo ***python***, herramienta esecial para la ciencia de datos. "
   ]
  },
  {
   "cell_type": "markdown",
   "id": "61fd2979",
   "metadata": {
    "id": "61fd2979"
   },
   "source": [
    "### Ejercicio 3: Resaltados y HTML\n",
    "Crea una línea que contenga:\n",
    "\n",
    "1. La palabra \"resaltado\" con un fondo amarillo usando Markdown.\n",
    "2. La palabra \"color\" en azul usando HTML.\n",
    "\n",
    "Para este ejercicio tendrás que buscar un poco más en internet, venga que tú puedes."
   ]
  },
  {
   "cell_type": "markdown",
   "id": "4c7d74db-f14e-4660-a759-deb622d44f08",
   "metadata": {},
   "source": [
    "<mark>Resaltado</mark>  \n",
    "<font color=#155DFC> color </font>\n"
   ]
  },
  {
   "cell_type": "markdown",
   "id": "a91386ca",
   "metadata": {
    "id": "a91386ca"
   },
   "source": [
    "### Ejercicio 4: Citas\n",
    "Incluye la siguiente cita:\n",
    "\n",
    "> La Ciencia de Datos es el petróleo del siglo XXI.\n",
    "\n",
    "En uno y dos niveles de cita"
   ]
  },
  {
   "cell_type": "markdown",
   "id": "70df4a5c-83e9-4f81-b2b3-06eda0a6f623",
   "metadata": {},
   "source": [
    "> \"La Ciencia de Datos es el petróleo del siglo XXI.\"\n",
    "> > \"La Ciencia de Datos es el petróleo del siglo XXI.\""
   ]
  },
  {
   "cell_type": "markdown",
   "id": "35f0595a",
   "metadata": {
    "id": "35f0595a"
   },
   "source": [
    "### Ejercicio 5: Combinando todo\n",
    "Crea un texto que combine lo siguiente:\n",
    "\n",
    "1. Una cabecera de nivel 2 con el texto \"Curso de Markdown\".\n",
    "2. Una frase que contenga la palabra \"importante\" en negritas.\n",
    "3. Una cita que diga: \"Aprender es crecer\".\n",
    "4. La palabra \"ejemplo\" en cursivas y con un fondo verde usando HTML.\n",
    "\n",
    "Nota: Si no has sido capaz de encontrar como dar color de fondo usando HTML quizás <span style=\"background-color:yellow\">*tienes que buscar más cerca de ti*</span>\n"
   ]
  },
  {
   "cell_type": "markdown",
   "id": "e5e7a50e-5ee5-4a88-876e-4e67acd3335f",
   "metadata": {},
   "source": [
    "# Curso de Markdown\n",
    "Lo que es **importante** rara vez es urgente, y lo que es urgente, rara vez es **importante**\n",
    "> \"Aprender es crecer\"\n",
    "\n",
    "<span style=\"background-color:#37BC7D\">*Ejemplo* <span>"
   ]
  }
 ],
 "metadata": {
  "colab": {
   "provenance": []
  },
  "kernelspec": {
   "display_name": "Python 3 (ipykernel)",
   "language": "python",
   "name": "python3"
  },
  "language_info": {
   "codemirror_mode": {
    "name": "ipython",
    "version": 3
   },
   "file_extension": ".py",
   "mimetype": "text/x-python",
   "name": "python",
   "nbconvert_exporter": "python",
   "pygments_lexer": "ipython3",
   "version": "3.13.7"
  }
 },
 "nbformat": 4,
 "nbformat_minor": 5
}
