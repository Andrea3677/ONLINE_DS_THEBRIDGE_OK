{
 "cells": [
  {
   "cell_type": "markdown",
   "metadata": {},
   "source": [
    "![imagen](./img/ejercicios.png)"
   ]
  },
  {
   "cell_type": "markdown",
   "metadata": {},
   "source": [
    "# Ejercicios Flujos de control"
   ]
  },
  {
   "cell_type": "markdown",
   "metadata": {},
   "source": [
    "## Ejercicio Extra\n",
    "Programa una calculadora que\n",
    "\n",
    "* Pregunte qué operación quieres realizar (multiplicación/división/suma/resta/potencia/salir)\n",
    "* Pida dos números \n",
    "* Realice la operación\n",
    "* Siga funcionando hasta que el usuario elija salir\n",
    "\n",
    "#### Bonus:\n",
    "* Que guarde todas las operaciones realizadas y las imprima por pantalla cuando el usuario elija esa opción\n",
    "* Que sea robusta frente a entradas erróneas del usuario o frente a operaciones como dividir por 0"
   ]
  },
  {
   "cell_type": "code",
   "execution_count": 3,
   "metadata": {},
   "outputs": [],
   "source": [
    "import math\n",
    "import pprint\n",
    "import time"
   ]
  },
  {
   "cell_type": "code",
   "execution_count": 9,
   "metadata": {},
   "outputs": [
    {
     "name": "stdout",
     "output_type": "stream",
     "text": [
      "10.0\n",
      "1.0\n",
      "3.0\n"
     ]
    }
   ],
   "source": [
    "decision = \"\"\n",
    "todas_ops = []\n",
    "\n",
    "while decision != \"salir\":\n",
    "    decision = input(\"¿salir o continuar?\")\n",
    "    if decision == \"salir\":\n",
    "        break\n",
    "    operacion = input (\"¿Qué operación quieres realizar?\").lower()\n",
    "    if operacion == \"*\" or operacion == \"x\" or operacion == \"multiplicacion\" or operacion == \"multiplicación\" or operacion == \"multiplicar\":\n",
    "        operacion = \"multiplicacion\"\n",
    "    elif operacion == \"/\"  or operacion == \"división\" or operacion == \"division\" or operacion == \"dividir\":\n",
    "        operacion = \"division\"\n",
    "    elif operacion == \"+\" or operacion == \"suma\" or operacion == \"sumar\":\n",
    "        operacion = \"suma\"\n",
    "    elif operacion == \"-\"  or operacion == \"resta\" or operacion == \"restar\":\n",
    "        operacion = \"resta\"\n",
    "    elif operacion == \"^\" or operacion == \"elevar\" or operacion == \"potencia\" or operacion == \"potenciar\":\n",
    "        operacion = \"potencia\"\n",
    "    else:\n",
    "        print(\"Operación inválida\")\n",
    " \n",
    "    numero1 = float(input (\"Indica el primer número\"))\n",
    "    numero2= float(input (\"Indica el segundo número\"))\n",
    "\n",
    "    match operacion:\n",
    "        case \"multiplicacion\":\n",
    "            resultado = numero1 * numero2\n",
    "        case \"division\":\n",
    "            if numero2 == 0:\n",
    "                print(\"Error. No se puede dividir por cero.\")\n",
    "                break\n",
    "            else:\n",
    "                resultado = numero1 / numero2\n",
    "        case \"suma\":\n",
    "            resultado = numero1 + numero2\n",
    "        case \"resta\":\n",
    "            resultado = numero1 - numero2\n",
    "        case \"potencia\":\n",
    "            resultado = numero1 ** numero2\n",
    "        case _:\n",
    "            print(\"Operación inválida\")\n",
    "            break\n",
    "    todas_ops.append(resultado)    \n",
    "    print(resultado)\n",
    "    \n"
   ]
  },
  {
   "cell_type": "code",
   "execution_count": 10,
   "metadata": {},
   "outputs": [
    {
     "data": {
      "text/plain": [
       "[10.0, 1.0, 3.0]"
      ]
     },
     "execution_count": 10,
     "metadata": {},
     "output_type": "execute_result"
    }
   ],
   "source": [
    "todas_ops"
   ]
  },
  {
   "cell_type": "code",
   "execution_count": null,
   "metadata": {},
   "outputs": [],
   "source": []
  },
  {
   "cell_type": "code",
   "execution_count": null,
   "metadata": {},
   "outputs": [],
   "source": []
  }
 ],
 "metadata": {
  "kernelspec": {
   "display_name": "Python 3",
   "language": "python",
   "name": "python3"
  },
  "language_info": {
   "codemirror_mode": {
    "name": "ipython",
    "version": 3
   },
   "file_extension": ".py",
   "mimetype": "text/x-python",
   "name": "python",
   "nbconvert_exporter": "python",
   "pygments_lexer": "ipython3",
   "version": "3.13.7"
  }
 },
 "nbformat": 4,
 "nbformat_minor": 4
}
