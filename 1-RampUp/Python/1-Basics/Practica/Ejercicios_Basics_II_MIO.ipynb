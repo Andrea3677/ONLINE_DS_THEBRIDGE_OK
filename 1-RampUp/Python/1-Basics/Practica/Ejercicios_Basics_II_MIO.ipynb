{
 "cells": [
  {
   "cell_type": "markdown",
   "metadata": {},
   "source": [
    "![imagen](./img/ejercicios.png)"
   ]
  },
  {
   "cell_type": "markdown",
   "metadata": {},
   "source": [
    "# Ejercicios Python Basics II"
   ]
  },
  {
   "cell_type": "markdown",
   "metadata": {},
   "source": [
    "## Ejercicio 1\n",
    "* Crea dos variables numericas: un `int` y un `float`\n",
    "* Comprueba sus tipos\n",
    "* Sumalas en otra nueva\n",
    "* ¿De qué tipo es la nueva variable?\n",
    "* Elimina las variables creadas"
   ]
  },
  {
   "cell_type": "code",
   "execution_count": 8,
   "metadata": {},
   "outputs": [
    {
     "name": "stdout",
     "output_type": "stream",
     "text": [
      "2 <class 'int'>\n",
      "5.5 <class 'float'>\n",
      "7.5 <class 'float'>\n"
     ]
    }
   ],
   "source": [
    "numero = 2\n",
    "decimal = 5.5\n",
    "print(numero, type(numero))\n",
    "print(decimal, type (decimal))\n",
    "suma = numero + decimal\n",
    "print(suma, type (suma))\n",
    "del numero, decimal, suma\n"
   ]
  },
  {
   "cell_type": "markdown",
   "metadata": {},
   "source": [
    "## Ejercicio 2\n",
    "Escribe un programa para pasar de grados a radianes. Hay que usar `input`. Recuerda que la conversión se realiza mediante\n",
    "\n",
    "$$radianes = grados*(pi/180)$$"
   ]
  },
  {
   "cell_type": "code",
   "execution_count": 9,
   "metadata": {},
   "outputs": [],
   "source": [
    "import math"
   ]
  },
  {
   "cell_type": "code",
   "execution_count": 12,
   "metadata": {},
   "outputs": [
    {
     "name": "stdout",
     "output_type": "stream",
     "text": [
      "10.0 grados son 0.17453292519943295 radianes\n"
     ]
    }
   ],
   "source": [
    "grados = float(input (\"Ingresa el número de grados que quieras convertir a radianes\"))\n",
    "radianes = grados * (math.pi/180)\n",
    "print(f\"{grados} grados son {radianes} radianes\")"
   ]
  },
  {
   "cell_type": "markdown",
   "metadata": {},
   "source": [
    "## Ejercicio 3\n",
    "Escribe un programa que calcule el area de un paralelogramo (base x altura). También con `input`"
   ]
  },
  {
   "cell_type": "code",
   "execution_count": 13,
   "metadata": {},
   "outputs": [
    {
     "name": "stdout",
     "output_type": "stream",
     "text": [
      "El area del palalegramo es 150.0\n"
     ]
    }
   ],
   "source": [
    "base = float(input (\"Ingresa la base del paralelogramo\"))\n",
    "altura = float (input(\"Indica la altura del paralelogramo\"))\n",
    "area = base * altura\n",
    "print(f\"El area del palalegramo es {area}\")"
   ]
  },
  {
   "cell_type": "markdown",
   "metadata": {},
   "source": [
    "## Ejercicio 4\n",
    "Tenemos las siguientes variables:\n",
    "\n",
    "```Python\n",
    "A = 4\n",
    "B = \"Text\"\n",
    "C = 4.1\n",
    "```\n",
    "\n",
    "Comprueba:\n",
    "1. Si A y B son equivalentes\n",
    "2. Si A y C NO son equivalentes\n",
    "3. Si A es mayor que C \n",
    "4. Si C es menor o igual que A\n",
    "5. Si B NO es equivalente a C"
   ]
  },
  {
   "cell_type": "code",
   "execution_count": 22,
   "metadata": {},
   "outputs": [
    {
     "name": "stdout",
     "output_type": "stream",
     "text": [
      "1. False\n",
      "2. True\n",
      "3. False\n",
      "4. False\n",
      "5. True\n"
     ]
    }
   ],
   "source": [
    "a = 4\n",
    "b = \"Text\"\n",
    "c = 4.1\n",
    "\n",
    "print(\"1.\", a == b)\n",
    "print(\"2.\", a != c)\n",
    "print(\"3.\", a > c)\n",
    "print(\"4.\", c <= a)\n",
    "print(\"5.\", b != c)\n"
   ]
  },
  {
   "cell_type": "code",
   "execution_count": 43,
   "metadata": {},
   "outputs": [
    {
     "name": "stdout",
     "output_type": "stream",
     "text": [
      "No lo son\n"
     ]
    }
   ],
   "source": [
    "if A == B:\n",
    "    print(\"Son iguales\")\n",
    "else:\n",
    "    print(\"No lo son\")"
   ]
  },
  {
   "cell_type": "code",
   "execution_count": 26,
   "metadata": {},
   "outputs": [
    {
     "name": "stdout",
     "output_type": "stream",
     "text": [
      "A y B NO son equivalentes\n",
      "A y C NO son equivalentes \n",
      "A es NO mayor que C \n",
      "C NO es menor o igual que A \n",
      "B NO es equivalente a C\n"
     ]
    }
   ],
   "source": [
    "print(\"A y B son equivalentes\" if a == b else \"A y B NO son equivalentes\")\n",
    "print(\"A y C NO son equivalentes \" if a != c else \"A y C son equivalentes\")\n",
    "print(\"A es mayor que C\" if a > c else \"A es NO mayor que C \")\n",
    "print(\"C es menor o igual que A\" if c <= a else \"C NO es menor o igual que A \")\n",
    "print(\"B NO es equivalente a C\" if b != c else \"B NO es equivalente a C\")\n"
   ]
  },
  {
   "cell_type": "markdown",
   "metadata": {},
   "source": [
    "## Ejercicio 5\n",
    "Crea un programa donde se recojan dos inputs del usuario, y el output del programa sea si esos inputs son iguales o no"
   ]
  },
  {
   "cell_type": "code",
   "execution_count": 27,
   "metadata": {},
   "outputs": [
    {
     "name": "stdout",
     "output_type": "stream",
     "text": [
      "Los inputs son iguales\n"
     ]
    }
   ],
   "source": [
    "primer_input = input(\"Ingresa el primer input\")\n",
    "segundo_input = input(\"Ingresa el segundo input\")\n",
    "print(\"Los inputs son iguales\" if primer_input == segundo_input else \"Los inputs son distintos\")"
   ]
  },
  {
   "cell_type": "markdown",
   "metadata": {},
   "source": [
    "## Ejercicio 6\n",
    "Mismo programa que en 5, pero en esta ocasión tienen que ser tres inputs y dos salidas. Una de las salidas que nos indique si todos son iguales, y la otra si al menos dos inputs sí que lo son"
   ]
  },
  {
   "cell_type": "code",
   "execution_count": 3,
   "metadata": {},
   "outputs": [
    {
     "name": "stdout",
     "output_type": "stream",
     "text": [
      "Los inputs son todos iguales \n",
      "Al menos dos inputs son iguales\n",
      "Los inputs son todos iguales\n"
     ]
    }
   ],
   "source": [
    "## Que el enunciado diga que son dos salidas no quiere decir que hay que imprimir dos mensajes si no que compruebe las dos\n",
    "\n",
    "primer_input = input(\"Ingresa el primer input\")\n",
    "segundo_input = input(\"Ingresa el segundo input\")\n",
    "tercer_input = input(\"Ingresa el tercer input\")\n",
    "\n",
    "print(\"Los inputs son todos iguales \"\n",
    "      if primer_input == segundo_input and primer_input == tercer_input and segundo_input == tercer_input \n",
    "      else \"Los inputs no son todos iguales\")\n",
    "\n",
    "if primer_input == segundo_input or primer_input == tercer_input or segundo_input == tercer_input:\n",
    "    print(\"Al menos dos inputs son iguales\")\n",
    "else:\n",
    "    print(\"Ninguna input es igual \")  \n",
    "\n",
    "\n",
    "#OTRA FORMA DE HACERLO \n",
    "\n",
    "if primer_input == segundo_input and primer_input == tercer_input and segundo_input == tercer_input:\n",
    "    print(\"Los inputs son todos iguales\")\n",
    "elif primer_input == segundo_input or primer_input == tercer_input or segundo_input == tercer_input:\n",
    "    print(\"Al menos dos inputs son iguales\")\n",
    "else: \n",
    "    print(\"Ninguna es igual\")\n",
    "\n"
   ]
  },
  {
   "cell_type": "markdown",
   "metadata": {},
   "source": [
    "## Ejercicio 7\n",
    "Crea un programa que recoja dos inputs. Tiene que comprobar si su suma es igual, superior o inferior a 10, cada condición por separado"
   ]
  },
  {
   "cell_type": "code",
   "execution_count": 35,
   "metadata": {},
   "outputs": [
    {
     "data": {
      "text/plain": [
       "'La suma de ambos inputs es igual a 10'"
      ]
     },
     "execution_count": 35,
     "metadata": {},
     "output_type": "execute_result"
    }
   ],
   "source": [
    "primer_input = float(input (\"Ingresa un numero\"))\n",
    "segundo_input = float(input(\"Ingresa otro numero\"))\n",
    "\n",
    "def sumar (primer_input, segundo_input):\n",
    "    suma = primer_input + segundo_input\n",
    "    if suma ==10:\n",
    "        return \"La suma de ambos inputs es igual a 10\"\n",
    "    elif suma > 10:\n",
    "        return \"La suma de ambos inputs es superior a 10\"\n",
    "    else:\n",
    "        return \"La suma de ambos inputs es inferior a 10\"\n",
    "    \n",
    "sumar (primer_input,segundo_input)"
   ]
  },
  {
   "attachments": {},
   "cell_type": "markdown",
   "metadata": {},
   "source": [
    "## Ejercicio 8\n",
    "Razona sin ejecutar código el output que obtendremos de las siguientes sentencias\n",
    "1. True and True and False\n",
    "2. not ((True or False) and (True or False))\n",
    "3. (False or False or False or True) and False\n",
    "4. not False and True and not True\n",
    "\n",
    "Compruébalo después con python"
   ]
  },
  {
   "cell_type": "markdown",
   "metadata": {},
   "source": [
    "1. False\n",
    "2. not (True) and (True) = False and True = False\n",
    "3. True and False = False\n",
    "4. True and True and False = False"
   ]
  },
  {
   "cell_type": "markdown",
   "metadata": {},
   "source": []
  },
  {
   "cell_type": "code",
   "execution_count": null,
   "metadata": {},
   "outputs": [],
   "source": []
  },
  {
   "cell_type": "markdown",
   "metadata": {},
   "source": [
    "## Ejercicio 9\n",
    "Para este ejercicio vamos a poner en práctica [las funciones built in](https://docs.python.org/3/library/functions.html).\n",
    "\n",
    "1. Calcula el máximo de la lista: [4, 6, 8, -1]\n",
    "2. Suma todos los elementos de la lista anterior\n",
    "3. Redondea este float a 3 dígitos decimales: 63.451256965\n",
    "4. Valor absoluto de: -74"
   ]
  },
  {
   "cell_type": "code",
   "execution_count": 41,
   "metadata": {},
   "outputs": [
    {
     "name": "stdout",
     "output_type": "stream",
     "text": [
      "8\n",
      "17\n",
      "63.451\n",
      "74\n"
     ]
    }
   ],
   "source": [
    "lista = [4, 6, 8, -1]\n",
    "\n",
    "print (max (lista))\n",
    "print(sum(lista))\n",
    "\n",
    "decimal = 63.451256965\n",
    "print(round(decimal,3))\n",
    "\n",
    "print(abs(-74))"
   ]
  },
  {
   "cell_type": "markdown",
   "metadata": {},
   "source": [
    "## Ejercicio 10\n",
    "Para el siguiente string se pide imprimir por pantalla los siguientes casos\n",
    "\n",
    "    \"Lo primero de todo, cómo están los máquinas\"\n",
    "\n",
    "1. Pasarlo todo a mayúsculas\n",
    "2. Pasarlo todo a minúsculas\n",
    "3. Pasar a mayúsculas solo las iniciales de las palabras\n",
    "4. Crea una lista dividiendolo por sus espacios\n",
    "5. Sustituye las comas `,` por puntos y comas `;`\n",
    "6. Elimina las `a` minúsculas"
   ]
  },
  {
   "cell_type": "code",
   "execution_count": 4,
   "metadata": {},
   "outputs": [
    {
     "name": "stdout",
     "output_type": "stream",
     "text": [
      "LO PRIMERO DE TODO, CÓMO ESTÁN LOS MÁQUINAS\n",
      "lo primero de todo, cómo están los máquinas\n",
      "Lo Primero De Todo, Cómo Están Los Máquinas\n",
      "['Lo', 'primero', 'de', 'todo,', 'cómo', 'están', 'los', 'máquinas']\n",
      "Lo primero de todo; cómo están los máquinas\n",
      "Lo primero de todo, cómo estn los mquins\n"
     ]
    }
   ],
   "source": [
    "texto = \"Lo primero de todo, cómo están los máquinas\"\n",
    "\n",
    "print(texto.upper())\n",
    "print(texto.lower())\n",
    "print(texto.title())\n",
    "\n",
    "lista = texto.split(\" \")\n",
    "print(lista)\n",
    "\n",
    "print(texto.replace(\",\",\";\"))\n",
    "\n",
    "print(texto.replace(\"á\",\"a\").replace(\"a\",\"\"))\n",
    "\n"
   ]
  },
  {
   "cell_type": "markdown",
   "metadata": {},
   "source": [
    "## Ejercicio 11\n",
    "1. Crea una lista con 3 elementos numéricos\n",
    "2. Añade un cuarto elemento\n",
    "3. Calcula la suma de todos\n",
    "4. Elimina el segundo elemento de la lista\n",
    "5. Añade otro elemento en la posicion 3 de la lista\n",
    "6. Crea otra lista con 4 elementos y concaténala a la que ya tenías."
   ]
  },
  {
   "cell_type": "code",
   "execution_count": 5,
   "metadata": {},
   "outputs": [
    {
     "name": "stdout",
     "output_type": "stream",
     "text": [
      "[15, 85, 69, 19]\n",
      "188\n",
      "[15, 69, 19]\n",
      "[15, 69, 19, 45]\n",
      "[15, 69, 19, 45, 59, 56, 85, 76]\n"
     ]
    }
   ],
   "source": [
    "lista = [15,85,69]\n",
    "\n",
    "lista.append(19)\n",
    "print(lista)\n",
    "\n",
    "print(sum(lista))\n",
    "\n",
    "lista.pop(1)\n",
    "print(lista)\n",
    "\n",
    "lista.insert(3, 45)\n",
    "print(lista)\n",
    "\n",
    "segunda_lista = [59,56,85,76]\n",
    "lista += segunda_lista\n",
    "print(lista)"
   ]
  },
  {
   "cell_type": "code",
   "execution_count": null,
   "metadata": {},
   "outputs": [],
   "source": []
  }
 ],
 "metadata": {
  "kernelspec": {
   "display_name": "Python 3",
   "language": "python",
   "name": "python3"
  },
  "language_info": {
   "codemirror_mode": {
    "name": "ipython",
    "version": 3
   },
   "file_extension": ".py",
   "mimetype": "text/x-python",
   "name": "python",
   "nbconvert_exporter": "python",
   "pygments_lexer": "ipython3",
   "version": "3.13.7"
  },
  "nbTranslate": {
   "displayLangs": [
    "*"
   ],
   "hotkey": "alt-t",
   "langInMainMenu": true,
   "sourceLang": "en",
   "targetLang": "fr",
   "useGoogleTranslate": true
  },
  "varInspector": {
   "cols": {
    "lenName": 16,
    "lenType": 16,
    "lenVar": 40
   },
   "kernels_config": {
    "python": {
     "delete_cmd_postfix": "",
     "delete_cmd_prefix": "del ",
     "library": "var_list.py",
     "varRefreshCmd": "print(var_dic_list())"
    },
    "r": {
     "delete_cmd_postfix": ") ",
     "delete_cmd_prefix": "rm(",
     "library": "var_list.r",
     "varRefreshCmd": "cat(var_dic_list()) "
    }
   },
   "types_to_exclude": [
    "module",
    "function",
    "builtin_function_or_method",
    "instance",
    "_Feature"
   ],
   "window_display": false
  }
 },
 "nbformat": 4,
 "nbformat_minor": 4
}
