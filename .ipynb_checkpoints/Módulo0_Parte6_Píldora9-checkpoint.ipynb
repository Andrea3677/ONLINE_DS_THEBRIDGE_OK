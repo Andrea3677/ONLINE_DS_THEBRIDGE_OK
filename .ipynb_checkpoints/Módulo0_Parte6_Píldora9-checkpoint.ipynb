{
 "cells": [
  {
   "cell_type": "markdown",
   "metadata": {
    "id": "vml6HRoBA9rc"
   },
   "source": [
    "![TheBridge_Python_v0.png](attachment:TheBridge_Python_v0.png)"
   ]
  },
  {
   "cell_type": "markdown",
   "metadata": {
    "id": "gz1c_jy6A9re"
   },
   "source": [
    "##  Argumentos variables\n"
   ]
  },
  {
   "cell_type": "markdown",
   "metadata": {
    "id": "HECeZJb_A9rf"
   },
   "source": [
    "### Contenidos\n"
   ]
  },
  {
   "cell_type": "markdown",
   "metadata": {
    "id": "xzUj1NHWA9rf"
   },
   "source": [
    "* [Introducción  ](#Introducción--)\n"
   ]
  },
  {
   "cell_type": "markdown",
   "metadata": {
    "id": "9mHlH28OA9rg"
   },
   "source": [
    "### Introducción  \n",
    "[al indice](#Contenidos)  \n",
    "En los ejemplos de la sesión anterior teníamos que fijar un número concreto de argumentos para nuestras funciones, pero hay ocasiones que no tenemos seguro cuántos argumentos son. Por suerte, las funciones de Python nos aportan esa flexibilidad mediante `*`\n",
    "\n",
    "Veamos cómo implementar una función multiplicadora con numero variable de argumentos"
   ]
  },
  {
   "cell_type": "code",
   "execution_count": 3,
   "metadata": {
    "id": "pmIGDPF_A9rg"
   },
   "outputs": [
    {
     "name": "stdout",
     "output_type": "stream",
     "text": [
      "(2, 3, 5)\n",
      "<class 'tuple'>\n",
      "(1, 5, 68, 59, 2)\n",
      "<class 'tuple'>\n"
     ]
    }
   ],
   "source": [
    "def multiplica (*argumentos):\n",
    "    print(argumentos)\n",
    "    print (type(argumentos))\n",
    "\n",
    "multiplica(2,3,5)\n",
    "multiplica (1,5,68,59,2)"
   ]
  },
  {
   "cell_type": "code",
   "execution_count": 9,
   "metadata": {},
   "outputs": [
    {
     "name": "stdout",
     "output_type": "stream",
     "text": [
      "El siguiente elemento es 2\n",
      "El siguiente elemento es 3\n",
      "El siguiente elemento es 4\n",
      "El siguiente elemento es 5\n",
      "El resultado es  120\n",
      "El siguiente elemento es 23\n",
      "El siguiente elemento es 15\n",
      "El resultado es  345\n",
      "El resultado es  1\n"
     ]
    },
    {
     "data": {
      "text/plain": [
       "1"
      ]
     },
     "execution_count": 9,
     "metadata": {},
     "output_type": "execute_result"
    }
   ],
   "source": [
    "def multiplica (*args):\n",
    "    resultado = 1\n",
    "    for indice, elemento in enumerate (args):\n",
    "        print (\"El siguiente elemento es\", args[indice])\n",
    "        resultado = resultado * elemento\n",
    "    print(\"El resultado es \", resultado)\n",
    "    return resultado\n",
    "\n",
    "multiplica (2,3,4,5)\n",
    "multiplica (23,15)\n",
    "multiplica ()"
   ]
  },
  {
   "cell_type": "code",
   "execution_count": 10,
   "metadata": {},
   "outputs": [
    {
     "name": "stdout",
     "output_type": "stream",
     "text": [
      "El siguiente elemento es 2\n",
      "El siguiente elemento es 3\n",
      "El siguiente elemento es 4\n",
      "El siguiente elemento es 5\n",
      "El resultado es  120\n",
      "El siguiente elemento es 23\n",
      "El siguiente elemento es 15\n",
      "El resultado es  345\n",
      "El resultado es  1\n"
     ]
    },
    {
     "data": {
      "text/plain": [
       "1"
      ]
     },
     "execution_count": 10,
     "metadata": {},
     "output_type": "execute_result"
    }
   ],
   "source": [
    "## el siguiente ejemplo no lo hizo el profesor en el video, sino que hizo el de arriba pero no entiendo muy bien porque hace lo anterior y al final\n",
    "# termina siendo el mismo resultado y el codigo es más simple\n",
    "def multiplica (*args):\n",
    "    resultado = 1\n",
    "    for elemento in args:\n",
    "        print (\"El siguiente elemento es\", elemento)\n",
    "        resultado = resultado * elemento\n",
    "    print(\"El resultado es \", resultado)\n",
    "    return resultado\n",
    "\n",
    "multiplica (2,3,4,5)\n",
    "multiplica (23,15)\n",
    "multiplica ()"
   ]
  },
  {
   "cell_type": "markdown",
   "metadata": {
    "id": "2IOoyQkoA9rg"
   },
   "source": [
    "Ten en cuenta que `*args` es algo variable con X elementos. Como no sabemos a priori cuantos son, tendremos que recorrerlos con un `for`, y para cada argumento, aplicarle una operación. Por tanto, `*args` es un iterable, en concreto una **tupla**. Lo que le está dando la funcionalidad de \"argumentos variables\" es `*`, no `args`. Igual que ponemos `*args`, podemos poner `*argumentos`.\n",
    "\n",
    "Puedes combinar argumentos posicionales con los `*args`"
   ]
  },
  {
   "cell_type": "code",
   "execution_count": 11,
   "metadata": {
    "id": "oXP3ygsVA9rh"
   },
   "outputs": [
    {
     "ename": "TypeError",
     "evalue": "multiplica_divide() missing 1 required keyword-only argument: 'div'",
     "output_type": "error",
     "traceback": [
      "\u001b[31m---------------------------------------------------------------------------\u001b[39m",
      "\u001b[31mTypeError\u001b[39m                                 Traceback (most recent call last)",
      "\u001b[36mCell\u001b[39m\u001b[36m \u001b[39m\u001b[32mIn[11]\u001b[39m\u001b[32m, line 9\u001b[39m\n\u001b[32m      6\u001b[39m     resultado = resultado / div\n\u001b[32m      7\u001b[39m     \u001b[38;5;28;01mreturn\u001b[39;00m resultado\n\u001b[32m----> \u001b[39m\u001b[32m9\u001b[39m \u001b[43mmultiplica_divide\u001b[49m\u001b[43m \u001b[49m\u001b[43m(\u001b[49m\u001b[32;43m10\u001b[39;49m\u001b[43m,\u001b[49m\u001b[32;43m34\u001b[39;49m\u001b[43m,\u001b[49m\u001b[32;43m21\u001b[39;49m\u001b[43m,\u001b[49m\u001b[32;43m5\u001b[39;49m\u001b[43m)\u001b[49m\n",
      "\u001b[31mTypeError\u001b[39m: multiplica_divide() missing 1 required keyword-only argument: 'div'"
     ]
    }
   ],
   "source": [
    "# En este ejemplo, uso el ultimo argumento para dividir todo lo que habiamos multiplicado por este argumento\n",
    "def multiplica_divide (*args, div):\n",
    "    resultado = 1\n",
    "    for i in args: \n",
    "        resultado = resultado * i\n",
    "    resultado = resultado / div\n",
    "    return resultado\n",
    "\n",
    "multiplica_divide (10,34,21,5)"
   ]
  },
  {
   "cell_type": "code",
   "execution_count": 16,
   "metadata": {},
   "outputs": [
    {
     "data": {
      "text/plain": [
       "1428.0"
      ]
     },
     "execution_count": 16,
     "metadata": {},
     "output_type": "execute_result"
    }
   ],
   "source": [
    "##podemos salvar el error anterior, definiendo exactamente cual es div \n",
    "\n",
    "def multiplica_divide (*args, div):\n",
    "    resultado = 1\n",
    "    for i in args: \n",
    "        resultado = resultado * i\n",
    "    resultado = resultado / div\n",
    "    return resultado\n",
    "\n",
    "multiplica_divide (10,34,21,div = 5)\n"
   ]
  },
  {
   "cell_type": "code",
   "execution_count": 18,
   "metadata": {},
   "outputs": [
    {
     "data": {
      "text/plain": [
       "1428.0"
      ]
     },
     "execution_count": 18,
     "metadata": {},
     "output_type": "execute_result"
    }
   ],
   "source": [
    "# Otra forma de salvar dicho error es cambiar la posición de los argumentos, poner primero (div) los argumentos que solo son un valor y despues los que\n",
    "# pueden ser varios (*args)\n",
    "def multiplica_divide (div, *args):\n",
    "    resultado = 1\n",
    "    for i in args: \n",
    "        resultado = resultado * i\n",
    "    resultado = resultado / div\n",
    "    return resultado\n",
    "\n",
    "multiplica_divide (5,10,34,21)"
   ]
  },
  {
   "cell_type": "markdown",
   "metadata": {
    "id": "jYDHJhxsA9ri"
   },
   "source": [
    "<table align=\"left\">\n",
    " <tr>\n",
    "     <td style=\"text-align:left\">\n",
    "         <h3>ERRORES con argumentos variables</h3>\n",
    "         \n",
    " </td></tr>\n",
    "</table>"
   ]
  },
  {
   "cell_type": "markdown",
   "metadata": {
    "id": "HhdXKGLVA9ri"
   },
   "source": [
    "Declara los argumentos variables al principio, y los fijos al final para evitar errores. Además, si los combinas, tendrás que concretar cuáles son los argumentos fijos"
   ]
  },
  {
   "cell_type": "code",
   "execution_count": null,
   "metadata": {
    "id": "M_HEuVriA9ri"
   },
   "outputs": [],
   "source": []
  },
  {
   "cell_type": "code",
   "execution_count": null,
   "metadata": {
    "id": "FPWnYhVUA9ri"
   },
   "outputs": [],
   "source": []
  }
 ],
 "metadata": {
  "colab": {
   "provenance": []
  },
  "kernelspec": {
   "display_name": "Python 3 (ipykernel)",
   "language": "python",
   "name": "python3"
  },
  "language_info": {
   "codemirror_mode": {
    "name": "ipython",
    "version": 3
   },
   "file_extension": ".py",
   "mimetype": "text/x-python",
   "name": "python",
   "nbconvert_exporter": "python",
   "pygments_lexer": "ipython3",
   "version": "3.13.7"
  }
 },
 "nbformat": 4,
 "nbformat_minor": 4
}
