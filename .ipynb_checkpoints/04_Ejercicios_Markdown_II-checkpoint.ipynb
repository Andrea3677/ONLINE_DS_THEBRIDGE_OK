{
 "cells": [
  {
   "cell_type": "markdown",
   "id": "c49ba49d",
   "metadata": {
    "id": "c49ba49d"
   },
   "source": [
    "<img src=\"./img/TheBridge_logo_RGB_color.jpg\" width = 500>"
   ]
  },
  {
   "cell_type": "markdown",
   "id": "22ff8a1a",
   "metadata": {
    "id": "22ff8a1a"
   },
   "source": [
    "# EJERCICIOS MARKDOWN (II)"
   ]
  },
  {
   "cell_type": "markdown",
   "id": "d626df26",
   "metadata": {
    "id": "d626df26"
   },
   "source": [
    "Aquí tienes cinco sencillos ejercicios para practicar lo aprendido en la segundasesión de Markdown. Como en el anterior, utiliza las celdas que hay debajo de cada enunciado y recuerda convertirlas a Markdown primero ;-)\n",
    "\n",
    "Si algunos ejercicios no los entiendes de primeras, dales una vuelta, busca pistas, busca en Internet... pero todavía no le preguntes a ChatGPT... Recuerda con dudas teóricas corre a preguntar, con los ejercicios exprimete antes de preguntar."
   ]
  },
  {
   "cell_type": "markdown",
   "id": "b2efd92f",
   "metadata": {
    "id": "b2efd92f"
   },
   "source": [
    "### Ejercicio 6: Listas\n",
    "Crea una lista no ordenada con los siguientes elementos:\n",
    "\n",
    "1. Manzanas\n",
    "2. Plátanos\n",
    "3. Uvas"
   ]
  },
  {
   "cell_type": "markdown",
   "id": "c8c2ff80",
   "metadata": {
    "id": "c8c2ff80"
   },
   "source": [
    "Crea ahora una lista ordenada de 1 a 3 y que además lo esté alfabéticamente con estos elementos:\n",
    "\n",
    "    * Arbol binario\n",
    "    * Random Forest\n",
    "    * Regresión Logística"
   ]
  },
  {
   "cell_type": "markdown",
   "id": "2c65c04a",
   "metadata": {
    "id": "2c65c04a"
   },
   "source": [
    "### Ejercicio 7: Listas Anidadas\n",
    "Bajo el título \"Frutas y Verduras\", crea una lista ordenada de frutas, y dentro de esta, anida una lista no ordenada de tres frutas. Luego, crea otra lista ordenada de verduras y anida dentro de ella una lista no ordenada de tres verduras.\n",
    "\n",
    "Las listas anidadas no las hemos visto pero seguro que con esto te haces una idea, como con los subrayados en los ejercicios de la primera parte:\n",
    "1. El elemento con orden\n",
    "* Aquí sin orden\n",
    "2. El siguiente\n",
    "* Pico\n",
    "* Pala\n"
   ]
  },
  {
   "cell_type": "markdown",
   "id": "a43d7d8a-8f5e-404b-a6b3-1618ce73758c",
   "metadata": {},
   "source": [
    "1. Frutas y verduras\n",
    "    * Manzana\n",
    "    * Fresa\n",
    "    * Melón\n",
    "    * Tomate\n",
    "  \n",
    "2. Verduras\n",
    "    * Lechuga\n",
    "    * Zanahoria\n",
    "    * Pepino\n",
    "    * Col\n"
   ]
  },
  {
   "cell_type": "markdown",
   "id": "e224fbf7",
   "metadata": {
    "id": "e224fbf7"
   },
   "source": [
    "### Ejercicio 8: Enlaces e Imágenes\n",
    "Inserta:\n",
    "\n",
    "1. Un enlace que lleve a \"www.thebridge.com\" con el texto \"Por aquí se cruzan puentes\".\n",
    "2. Una imagen de cualquier URL con el texto alternativo \"Logo\". Recuerda que puedes hacerlo referenciando la imagen a través de su ruta en tu ordenador, o bien incrustandola en el notebook\n"
   ]
  },
  {
   "attachments": {
    "8a58a9a1-2958-42d9-8b9d-c2f1ac425f2e.png": {
     "image/png": "[encoded data removed]"
    }
   },
   "cell_type": "markdown",
   "id": "8696ca08-8b74-47ca-9da5-cf06bb247d5e",
   "metadata": {},
   "source": [
    "1. [Por aquí se cruzan puentes](https://thebridge.tech/)\n",
    "2. ![Logo](attachment:8a58a9a1-2958-42d9-8b9d-c2f1ac425f2e.png)"
   ]
  },
  {
   "cell_type": "markdown",
   "id": "94e48fe3",
   "metadata": {
    "id": "94e48fe3"
   },
   "source": [
    "### Ejercicio 9: Líneas Horizontales y Bloques de Código\n",
    "Inserta:\n",
    "\n",
    "1. Un bloque de código en Python que imprima \"Hola Mundo\" (pista: print(\"Hola Mundo\")) entre dos líneas horizontales, cada una creada con un método diferente."
   ]
  },
  {
   "cell_type": "markdown",
   "id": "920eba0c-4b9f-4cc3-96c3-340727a32e14",
   "metadata": {},
   "source": [
    "***\n",
    "```\n",
    "print(\"Hola Mundo\")\n",
    "```\n",
    "___"
   ]
  }
 ],
 "metadata": {
  "colab": {
   "provenance": []
  },
  "kernelspec": {
   "display_name": "Python 3 (ipykernel)",
   "language": "python",
   "name": "python3"
  },
  "language_info": {
   "codemirror_mode": {
    "name": "ipython",
    "version": 3
   },
   "file_extension": ".py",
   "mimetype": "text/x-python",
   "name": "python",
   "nbconvert_exporter": "python",
   "pygments_lexer": "ipython3",
   "version": "3.13.7"
  }
 },
 "nbformat": 4,
 "nbformat_minor": 5
}
