{
 "cells": [
  {
   "cell_type": "markdown",
   "metadata": {
    "id": "PyisYmxEGdqx"
   },
   "source": [
    "![TheBridge_Python_v0.png](attachment:TheBridge_Python_v0.png)"
   ]
  },
  {
   "cell_type": "markdown",
   "metadata": {
    "id": "GdvYNp0EGdqy"
   },
   "source": [
    "## Colecciones Python: Diccionarios\n"
   ]
  },
  {
   "cell_type": "markdown",
   "metadata": {
    "id": "e-XIsw9IGdqz"
   },
   "source": [
    "### Contenidos\n"
   ]
  },
  {
   "cell_type": "markdown",
   "metadata": {
    "id": "WxapZGwNGdqz"
   },
   "source": [
    "* [Introducción](#Introducción)\n",
    "\n",
    "* [Acceso, modificación, añadir, eliminar](#Acceso,-modificación,-añadir,-eliminar)\n",
    "\n",
    "* [Iterar](#Iterar)\n",
    "\n"
   ]
  },
  {
   "cell_type": "markdown",
   "metadata": {
    "id": "lezHIqD2Gdqz"
   },
   "source": [
    "### Introducción\n",
    "[al indice](#Contenidos)  \n",
    "\n",
    "En este tipo de colecciones no solo podemos agrupar datos, sino que tenemos la posibilidad de establecer una relación entre los mismos, con la forma **clave: valor**.\n",
    "\n",
    "La sintaxis  es mediante llaves `{}`\n",
    "\n",
    "> nombre_diccionario = {clave1: valor1, clave2: valor2, clave3: valor3}\n",
    "\n",
    "Si veíamos que las listas son elementos mutables y y ordenadas, y las tuplas inmutables y ordenadas, los diccionarios son:\n",
    "\n",
    "* **Mutables**: podemos modificar sus elementos\n",
    "* **Desordenado**: la potencia de acceso de los diccionarios es su formato clave-valor, no su orden. Aun así, el dicionario conserva el orden de los elemento según los vamos insertando.\n",
    "\n",
    "Vamos a declarar un diccionario en el que definiremos elementos de un coche"
   ]
  },
  {
   "cell_type": "code",
   "execution_count": 2,
   "metadata": {
    "id": "IhmrFPcrGdq0"
   },
   "outputs": [
    {
     "data": {
      "text/plain": [
       "{'color': 'Rojo',\n",
       " 'marca': 'Tesla',\n",
       " 'modelo': 'Cybertrack',\n",
       " 'peso': 3500,\n",
       " 'cambio automático': True}"
      ]
     },
     "execution_count": 2,
     "metadata": {},
     "output_type": "execute_result"
    }
   ],
   "source": [
    "coches_dict = {\n",
    "    \"color\" : \"Rojo\",\n",
    "    \"marca\" : \"Tesla\",\n",
    "    \"modelo\" : \"Cybertrack\",\n",
    "    \"peso\" : 3500,\n",
    "    \"cambio automático\" : True\n",
    "}\n",
    "coches_dict"
   ]
  },
  {
   "cell_type": "markdown",
   "metadata": {
    "id": "fkwrOQtiGdq0"
   },
   "source": [
    "Se puede almacenar todo tipo de datos: numero, cadena, booleano, listas, tuplas, diccionarios...\n",
    "\n",
    "Cuando declaremos el diccionario, lo podemos hacer en una sola linea `coche = {\"color\"=\"Gris\", \"marca\"...}`, aunque se recomienda por sencillez a la hora de leer el código, realizar esta acción en varias líneas. Si escribimos el primer elemento y presionamos enter, Jupyter introduce automáticamente la tabulación."
   ]
  },
  {
   "cell_type": "markdown",
   "metadata": {
    "id": "dE9TaFXAGdq1"
   },
   "source": [
    "### Acceso, modificación, añadir, eliminar\n",
    "[al indice](#Contenidos)  \n",
    "\n"
   ]
  },
  {
   "cell_type": "code",
   "execution_count": 13,
   "metadata": {
    "id": "pReijlYqGdq1"
   },
   "outputs": [
    {
     "name": "stdout",
     "output_type": "stream",
     "text": [
      "['Rojo', 'Gris']\n",
      "3500\n",
      "{'color': ['Rojo', 'Gris'], 'marca': 'Tesla', 'modelo': 'Cybertrack', 'peso': 3500, 'cambio automático': True}\n",
      "{'color': ['Rojo', 'Gris'], 'marca': 'Tesla', 'modelo': 'Cybertrack', 'peso': 3500, 'cambio automático': True, 'puertas': 6}\n",
      "{'color': ['Rojo', 'Gris'], 'marca': 'Tesla', 'modelo': 'Cybertrack', 'peso': 3500, 'cambio automático': True}\n",
      "dict_keys(['color', 'marca', 'modelo', 'peso', 'cambio automático'])\n",
      "dict_values([['Rojo', 'Gris'], 'Tesla', 'Cybertrack', 3500, True])\n"
     ]
    }
   ],
   "source": [
    "# Acceso a los elementos \n",
    "\n",
    "print (coches_dict [\"color\"])\n",
    "print (coches_dict[\"peso\"])\n",
    "\n",
    "#print (coches_dict [\"puertas\"]) (error- no existe)\n",
    "\n",
    "coches_dict[\"color\"] = [\"Rojo\", \"Gris\"]\n",
    "print (coches_dict)\n",
    "\n",
    "#añadir elemento \n",
    "coches_dict[\"puertas\"] = 6\n",
    "print (coches_dict)\n",
    "\n",
    "#eliminar un elemento\n",
    "del coches_dict [\"puertas\"]\n",
    "print (coches_dict)\n",
    "\n",
    "#Conocer los claves del diccionario\n",
    "print (coches_dict.keys())\n",
    "\n",
    "#Conocer los valores\n",
    "print (coches_dict.values())"
   ]
  },
  {
   "cell_type": "markdown",
   "metadata": {
    "id": "8lJKeoKGGdq1"
   },
   "source": [
    "Para más detalle de los métodos de los diccionario puedes [consultar la documentación](https://www.w3schools.com/python/python_ref_dictionary.asp)"
   ]
  },
  {
   "cell_type": "code",
   "execution_count": 14,
   "metadata": {
    "id": "TjkJY3PNGdq2"
   },
   "outputs": [
    {
     "name": "stdout",
     "output_type": "stream",
     "text": [
      "{'dirección': 'Montesa 12', 'tamaño': 123}\n"
     ]
    }
   ],
   "source": [
    "# Podemos empezar tambien mediante un diccionario vacío\n",
    "tienda = {}\n",
    "#tienda = dict() . otra forma de crear \n",
    "\n",
    "tienda [\"dirección\"] = \"Montesa 12\"\n",
    "tienda [\"tamaño\"] = 123\n",
    "\n",
    "print(tienda)"
   ]
  },
  {
   "cell_type": "markdown",
   "metadata": {
    "id": "9oQRNT4nGdq2"
   },
   "source": [
    "<table align=\"left\">\n",
    " <tr>\n",
    "     <td style=\"text-align:left\">\n",
    "         <h3>ERRORES en diccionarios</h3>\n",
    "         \n",
    " </td></tr>\n",
    "</table>"
   ]
  },
  {
   "cell_type": "markdown",
   "metadata": {
    "id": "-WgkkV5WGdq2"
   },
   "source": [
    "Si hay una clave que no existe en el diccionario, saltará un error.\n",
    "\n",
    "En este caso, el error es bastante intuitivo: `KeyError`, no encuentra la clave"
   ]
  },
  {
   "cell_type": "code",
   "execution_count": 15,
   "metadata": {
    "id": "Tlt0iEM2Gdq2"
   },
   "outputs": [
    {
     "ename": "KeyError",
     "evalue": "'puertas'",
     "output_type": "error",
     "traceback": [
      "\u001b[31m---------------------------------------------------------------------------\u001b[39m",
      "\u001b[31mKeyError\u001b[39m                                  Traceback (most recent call last)",
      "\u001b[36mCell\u001b[39m\u001b[36m \u001b[39m\u001b[32mIn[15]\u001b[39m\u001b[32m, line 1\u001b[39m\n\u001b[32m----> \u001b[39m\u001b[32m1\u001b[39m \u001b[43mcoches_dict\u001b[49m\u001b[43m \u001b[49m\u001b[43m[\u001b[49m\u001b[33;43m\"\u001b[39;49m\u001b[33;43mpuertas\u001b[39;49m\u001b[33;43m\"\u001b[39;49m\u001b[43m]\u001b[49m\n",
      "\u001b[31mKeyError\u001b[39m: 'puertas'"
     ]
    }
   ],
   "source": [
    "coches_dict [\"puertas\"]"
   ]
  },
  {
   "cell_type": "markdown",
   "metadata": {
    "id": "dzMwgQzZGdq2"
   },
   "source": [
    "**¿Cómo solventar esto?** Sirmpre tienes la opción de usar el bloque `try/except`, pero en este caso, los diccionarios tienen una solución más elegante: `mi_diccionario.get(clave, valor si no existe)`"
   ]
  },
  {
   "cell_type": "code",
   "execution_count": 19,
   "metadata": {
    "id": "nZe4rrdhGdq3"
   },
   "outputs": [
    {
     "name": "stdout",
     "output_type": "stream",
     "text": [
      "4\n",
      "{'color': ['Rojo', 'Gris'], 'marca': 'Tesla', 'modelo': 'Cybertrack', 'peso': 3500, 'cambio automático': True}\n",
      "Tesla\n"
     ]
    }
   ],
   "source": [
    "numero_de_puertas = coches_dict.get(\"puertas\",4)\n",
    "print (numero_de_puertas)\n",
    "print (coches_dict)\n",
    "marca = coches_dict.get (\"marca\",\"desconocida\")\n",
    "print (marca)"
   ]
  },
  {
   "cell_type": "markdown",
   "metadata": {
    "id": "9QneuZzFGdq3"
   },
   "source": [
    "### Iterar\n",
    "[al indice](#Contenidos)  \n",
    "\n",
    "Que el diccionario no esté ordenado, no quiere decir que no podamos iterar sus elementos, ya que también es un **interable**, como los son las listas o las tuplas."
   ]
  },
  {
   "cell_type": "code",
   "execution_count": 21,
   "metadata": {
    "id": "5S2E2WfJGdq3"
   },
   "outputs": [
    {
     "name": "stdout",
     "output_type": "stream",
     "text": [
      "color\n",
      "['Rojo', 'Gris']\n",
      "marca\n",
      "Tesla\n",
      "modelo\n",
      "Cybertrack\n",
      "peso\n",
      "3500\n",
      "cambio automático\n",
      "True\n"
     ]
    }
   ],
   "source": [
    "for i in coches_dict:\n",
    "    print(i)\n",
    "    print(coches_dict[i])"
   ]
  },
  {
   "cell_type": "code",
   "execution_count": 22,
   "metadata": {
    "id": "iK8OXn0DGdq3"
   },
   "outputs": [
    {
     "name": "stdout",
     "output_type": "stream",
     "text": [
      "color : ['Rojo', 'Gris']\n",
      "marca : Tesla\n",
      "modelo : Cybertrack\n",
      "peso : 3500\n",
      "cambio automático : True\n"
     ]
    }
   ],
   "source": [
    "for i in coches_dict:\n",
    "    print(i,\":\", coches_dict[i])\n",
    "    "
   ]
  },
  {
   "cell_type": "code",
   "execution_count": 23,
   "metadata": {},
   "outputs": [
    {
     "data": {
      "text/plain": [
       "dict_items([('color', ['Rojo', 'Gris']), ('marca', 'Tesla'), ('modelo', 'Cybertrack'), ('peso', 3500), ('cambio automático', True)])"
      ]
     },
     "execution_count": 23,
     "metadata": {},
     "output_type": "execute_result"
    }
   ],
   "source": [
    "coches_dict.items()"
   ]
  },
  {
   "cell_type": "code",
   "execution_count": 25,
   "metadata": {},
   "outputs": [
    {
     "name": "stdout",
     "output_type": "stream",
     "text": [
      "color : ['Rojo', 'Gris']\n",
      "marca : Tesla\n",
      "modelo : Cybertrack\n",
      "peso : 3500\n",
      "cambio automático : True\n"
     ]
    }
   ],
   "source": [
    "for clave,valor in coches_dict.items():\n",
    "    print(clave, \":\", valor)"
   ]
  }
 ],
 "metadata": {
  "colab": {
   "provenance": []
  },
  "kernelspec": {
   "display_name": "Python 3 (ipykernel)",
   "language": "python",
   "name": "python3"
  },
  "language_info": {
   "codemirror_mode": {
    "name": "ipython",
    "version": 3
   },
   "file_extension": ".py",
   "mimetype": "text/x-python",
   "name": "python",
   "nbconvert_exporter": "python",
   "pygments_lexer": "ipython3",
   "version": "3.13.7"
  }
 },
 "nbformat": 4,
 "nbformat_minor": 4
}
