{
 "cells": [
  {
   "cell_type": "markdown",
   "metadata": {
    "id": "B8tf55u1BRgc"
   },
   "source": [
    "![TheBridge_Python_v0.png](attachment:TheBridge_Python_v0.png)"
   ]
  },
  {
   "cell_type": "markdown",
   "metadata": {
    "id": "M2RUSY7vBRge"
   },
   "source": [
    "##  Constructores\n"
   ]
  },
  {
   "cell_type": "markdown",
   "metadata": {
    "id": "gsnuPCdOBRge"
   },
   "source": [
    "### Contenidos\n"
   ]
  },
  {
   "cell_type": "markdown",
   "metadata": {
    "id": "zS4cj6A_BRge"
   },
   "source": [
    "* [Introducción  ](#Introducción--)\n",
    "\n"
   ]
  },
  {
   "cell_type": "markdown",
   "metadata": {
    "id": "jxr-DaUUBRgf"
   },
   "source": [
    "### Introducción  \n",
    "[al indice](#Contenidos)  \n",
    "\n",
    "Veíamos en la sesión anterior que cuando creamos un objeto de la clase *Coche* sin más, este objeto adquiere los atributos por defecto de la clase. Si queremos definirlo bien \"de primeras\" (en su instanciación o creación) para diferenciarlo de otros coches, necesitamos algo más.  \n",
    "\n",
    "Ese algo más que me permite la definición inicial, es lo que se denomina constructor de la clase.\n",
    "\n",
    "Será un método, muy similar a una función, al que daremos unos argumentos de entrada que sustituirán a los valores por defecto y que nos permitirán diferenciar esa instancia de otras instancias de la misma clase.\n",
    "\n",
    "**¿Cómo se define un constructor?** Mediante la función `__init__`, dentro de la clase."
   ]
  },
  {
   "cell_type": "code",
   "execution_count": 1,
   "metadata": {
    "id": "hCy49mvPBRgf"
   },
   "outputs": [],
   "source": [
    "class Coche:\n",
    "    puertas = 4 \n",
    "    ruedas = 4\n",
    "\n",
    "    def __init__ (self, marca_coche):\n",
    "        self.marca = marca_coche"
   ]
  },
  {
   "cell_type": "code",
   "execution_count": 2,
   "metadata": {},
   "outputs": [
    {
     "ename": "TypeError",
     "evalue": "Coche.__init__() missing 1 required positional argument: 'marca_coche'",
     "output_type": "error",
     "traceback": [
      "\u001b[31m---------------------------------------------------------------------------\u001b[39m",
      "\u001b[31mTypeError\u001b[39m                                 Traceback (most recent call last)",
      "\u001b[36mCell\u001b[39m\u001b[36m \u001b[39m\u001b[32mIn[2]\u001b[39m\u001b[32m, line 1\u001b[39m\n\u001b[32m----> \u001b[39m\u001b[32m1\u001b[39m tesla = \u001b[43mCoche\u001b[49m\u001b[43m(\u001b[49m\u001b[43m)\u001b[49m\n",
      "\u001b[31mTypeError\u001b[39m: Coche.__init__() missing 1 required positional argument: 'marca_coche'"
     ]
    }
   ],
   "source": [
    "tesla = Coche()"
   ]
  },
  {
   "cell_type": "code",
   "execution_count": 3,
   "metadata": {},
   "outputs": [
    {
     "name": "stdout",
     "output_type": "stream",
     "text": [
      "Tesla\n"
     ]
    }
   ],
   "source": [
    "tesla = Coche (\"Tesla\")\n",
    "print (tesla.marca)"
   ]
  },
  {
   "cell_type": "markdown",
   "metadata": {
    "id": "ftrWpk4qBRgf"
   },
   "source": [
    "En la declaración del constructor hemos metido la palabra `self`. **Lo tendremos que poner siempre**. Hace referencia a la propia instancia de coche, es decir, a cuando creemos coches nuevos.\n",
    "\n",
    "En este caso estamos diferenciando los atributos comunes de la clase *Coche*, de los atributos particulares de los coches, como por ejemplo, la marca. Por eso la marca va junto con `self`, porque no hace referencia a la clase genércia de coche, sino a cada coche que creemos."
   ]
  },
  {
   "cell_type": "code",
   "execution_count": 6,
   "metadata": {
    "id": "0_HmU_XqBRgf"
   },
   "outputs": [
    {
     "name": "stdout",
     "output_type": "stream",
     "text": [
      "Mercedes\n",
      "Renault\n",
      "4\n",
      "4\n",
      "4\n",
      "4\n"
     ]
    }
   ],
   "source": [
    "mercedes = Coche (\"Mercedes\")\n",
    "renault = Coche (\"Renault\")\n",
    "print (mercedes.marca)\n",
    "print (renault.marca)\n",
    "print (mercedes.puertas)\n",
    "print (renault.puertas)\n",
    "print (mercedes.ruedas)\n",
    "print (renault.ruedas)"
   ]
  },
  {
   "cell_type": "markdown",
   "metadata": {
    "id": "Em7prw3-BRgf"
   },
   "source": [
    "Ahora ya podemos diferenciar los coches por su marca. Para acceder al atributo de la marca, lo hacemos igual que con los anteriores."
   ]
  },
  {
   "cell_type": "code",
   "execution_count": 17,
   "metadata": {
    "id": "R4swODkNBRgg"
   },
   "outputs": [],
   "source": [
    "class Coches:\n",
    "    puertas = 4\n",
    "    ruedas = 4\n",
    "\n",
    "    def __init__(self, marca_coche, num_puertas):\n",
    "        self.marca = marca_coche\n",
    "        self.puertas = num_puertas"
   ]
  },
  {
   "cell_type": "markdown",
   "metadata": {
    "id": "IcGq3qgkBRgg"
   },
   "source": [
    "Ya podemos solucionar el tema de que no todos los coches tienen 4 puertas"
   ]
  },
  {
   "cell_type": "code",
   "execution_count": 20,
   "metadata": {
    "id": "MZUXzOE7BRgg"
   },
   "outputs": [],
   "source": [
    "tesla = Coches (\"Tesla\", 6)\n",
    "mercedes_500 = Coches (\"Mercedes\", 8)"
   ]
  },
  {
   "cell_type": "code",
   "execution_count": 22,
   "metadata": {
    "id": "uZq0eSgxBRgg"
   },
   "outputs": [
    {
     "name": "stdout",
     "output_type": "stream",
     "text": [
      "6\n",
      "8\n"
     ]
    }
   ],
   "source": [
    "print(tesla.puertas)\n",
    "print(mercedes_500.puertas)"
   ]
  },
  {
   "cell_type": "code",
   "execution_count": 23,
   "metadata": {},
   "outputs": [],
   "source": [
    "class Coches:\n",
    "\n",
    "    def __init__(self, marca_coche, num_puertas = 4, num_ruedas = 4):\n",
    "        self.marca = marca_coche\n",
    "        self.puertas = num_puertas\n",
    "        self.ruedas = num_ruedas"
   ]
  },
  {
   "cell_type": "code",
   "execution_count": 29,
   "metadata": {},
   "outputs": [],
   "source": [
    "tesla_4 = Coches (\"Tesla\")\n",
    "tesla_6r = Coches (\"Tesla\", num_ruedas = 6 )"
   ]
  },
  {
   "cell_type": "code",
   "execution_count": 32,
   "metadata": {},
   "outputs": [
    {
     "name": "stdout",
     "output_type": "stream",
     "text": [
      "4 4\n",
      "4 6\n"
     ]
    }
   ],
   "source": [
    "print (tesla_4.puertas, tesla_6r.puertas)\n",
    "print (tesla_4.ruedas, tesla_6r.ruedas)"
   ]
  }
 ],
 "metadata": {
  "colab": {
   "provenance": []
  },
  "kernelspec": {
   "display_name": "Python 3 (ipykernel)",
   "language": "python",
   "name": "python3"
  },
  "language_info": {
   "codemirror_mode": {
    "name": "ipython",
    "version": 3
   },
   "file_extension": ".py",
   "mimetype": "text/x-python",
   "name": "python",
   "nbconvert_exporter": "python",
   "pygments_lexer": "ipython3",
   "version": "3.13.7"
  }
 },
 "nbformat": 4,
 "nbformat_minor": 4
}
