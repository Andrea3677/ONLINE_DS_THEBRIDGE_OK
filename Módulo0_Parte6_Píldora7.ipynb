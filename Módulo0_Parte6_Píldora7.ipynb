{
 "cells": [
  {
   "cell_type": "markdown",
   "metadata": {
    "id": "b1AD7cjlUod-"
   },
   "source": [
    "![TheBridge_Python_v0.png](attachment:TheBridge_Python_v0.png)"
   ]
  },
  {
   "cell_type": "markdown",
   "metadata": {
    "id": "89w9zrobUod_"
   },
   "source": [
    "##  Funciones de usuario II"
   ]
  },
  {
   "cell_type": "markdown",
   "metadata": {
    "id": "iHpG95uPUoeA"
   },
   "source": [
    "### Contenidos"
   ]
  },
  {
   "cell_type": "markdown",
   "metadata": {
    "id": "UE-ozY2eUoeA"
   },
   "source": [
    "* [Return](#Return)\n",
    "\n",
    "* [Tipos de datos de los argumentos](#Tipos-de-datos-de-los-argumentos)\n",
    "\n",
    "* [Errores típicos con funciones](#Errores-típicos-con-funciones)\n",
    "\n"
   ]
  },
  {
   "cell_type": "markdown",
   "metadata": {
    "id": "mIvZ2ZH6UoeA"
   },
   "source": [
    "### Return\n",
    "[al indice](#Contenidos)  \n",
    "\n",
    "\n",
    "Continuamos con las funciones definidas por el usuario. Recuerda que la sintaxis que vimos en el anterior notebook era:\n",
    "\n",
    "\n",
    "> ```Python\n",
    "> def nombre_funcion(entrada):\n",
    ">    operaciones varias\n",
    ">    return output\n",
    "> ```\n",
    "\n",
    "Hicimos un ejemplo de función que nos devolvía un resultado (output) que podíamos almacenar en una variable... pero las funciones **tampoco tienen por qué llevar un `return`**. No siempre es necesario un output. En tal caso, devuelve `None`"
   ]
  },
  {
   "cell_type": "code",
   "execution_count": 4,
   "metadata": {
    "id": "h-uy2y-AUoeA"
   },
   "outputs": [],
   "source": [
    "from datetime import datetime\n",
    "\n",
    "def que_hora_es():\n",
    "    now = datetime.now().time()\n",
    "    print(now)\n"
   ]
  },
  {
   "cell_type": "code",
   "execution_count": 3,
   "metadata": {},
   "outputs": [
    {
     "name": "stdout",
     "output_type": "stream",
     "text": [
      "10:14:41.528419\n",
      "None <class 'NoneType'>\n"
     ]
    }
   ],
   "source": [
    "hora = que_hora_es()\n",
    "print(hora, type(hora))"
   ]
  },
  {
   "cell_type": "code",
   "execution_count": 5,
   "metadata": {},
   "outputs": [
    {
     "ename": "NameError",
     "evalue": "name 'now' is not defined",
     "output_type": "error",
     "traceback": [
      "\u001b[31m---------------------------------------------------------------------------\u001b[39m",
      "\u001b[31mNameError\u001b[39m                                 Traceback (most recent call last)",
      "\u001b[36mCell\u001b[39m\u001b[36m \u001b[39m\u001b[32mIn[5]\u001b[39m\u001b[32m, line 1\u001b[39m\n\u001b[32m----> \u001b[39m\u001b[32m1\u001b[39m \u001b[38;5;28mprint\u001b[39m(\u001b[43mnow\u001b[49m)\n",
      "\u001b[31mNameError\u001b[39m: name 'now' is not defined"
     ]
    }
   ],
   "source": [
    "print(now)"
   ]
  },
  {
   "cell_type": "markdown",
   "metadata": {
    "id": "Q9AsxeZ2UoeB"
   },
   "source": [
    "También **puedes poner varias salidas en el return**. En ese caso, si no se especifica nada más la salida de la función será de tipo \"tupla\" (tuple). Pero generalmente los agrupamos en una colección."
   ]
  },
  {
   "cell_type": "code",
   "execution_count": 7,
   "metadata": {
    "id": "j1eKjpGWUoeB"
   },
   "outputs": [],
   "source": [
    "def conversor_km_millas(distancia):\n",
    "    millas = 0.62 * distancia\n",
    "    metros = 1000 * distancia\n",
    "    return round(millas,1), millas, metros\n",
    "    "
   ]
  },
  {
   "cell_type": "code",
   "execution_count": 11,
   "metadata": {},
   "outputs": [
    {
     "name": "stdout",
     "output_type": "stream",
     "text": [
      "(1377.0, 1377.02, 2221000)\n",
      "<class 'tuple'>\n"
     ]
    }
   ],
   "source": [
    "salida = conversor_km_millas (2221)\n",
    "print (salida)\n",
    "print(type (salida))"
   ]
  },
  {
   "cell_type": "markdown",
   "metadata": {
    "id": "i8rc5EYrUoeB"
   },
   "source": [
    "### Tipos de datos de los argumentos\n",
    "[al indice](#Contenidos)  \n",
    "\n",
    "Lo que quieras: numeros, texto, listas, tuplas, diccionarios, objetos de clases que hayas definido..."
   ]
  },
  {
   "cell_type": "code",
   "execution_count": 1,
   "metadata": {
    "id": "xhOmKbUAUoeC"
   },
   "outputs": [],
   "source": [
    "def recibe_mix (tupla, lista, diccionario):\n",
    "    print (\"La tupla contiene:\")\n",
    "    print (tupla)\n",
    "    print (\" y es de tipo:\")\n",
    "    print (type(tupla))\n",
    "    print (\"La lista contiene:\")\n",
    "    print (lista)\n",
    "    print (\" y es de tipo:\")\n",
    "    print (type(lista))\n",
    "    print (\"La diccionario contiene:\")\n",
    "    print (diccionario)\n",
    "    print (\" y es de tipo:\")\n",
    "    print (type(diccionario))\n",
    "    return [type(tupla), type (lista), type(diccionario)]\n",
    "    \n",
    "    \n",
    "    "
   ]
  },
  {
   "cell_type": "code",
   "execution_count": 2,
   "metadata": {
    "scrolled": true
   },
   "outputs": [
    {
     "name": "stdout",
     "output_type": "stream",
     "text": [
      "La tupla contiene:\n",
      "(12, 25, 26)\n",
      " y es de tipo:\n",
      "<class 'tuple'>\n",
      "La lista contiene:\n",
      "['Esto', 'es', 'una', 'lista']\n",
      " y es de tipo:\n",
      "<class 'list'>\n",
      "La diccionario contiene:\n",
      "{'key1': 'valor1'}\n",
      " y es de tipo:\n",
      "<class 'dict'>\n"
     ]
    },
    {
     "data": {
      "text/plain": [
       "[tuple, list, dict]"
      ]
     },
     "execution_count": 2,
     "metadata": {},
     "output_type": "execute_result"
    }
   ],
   "source": [
    "recibe_mix ((12,25,26), [\"Esto\", \"es\", \"una\", \"lista\"],{\"key1\": \"valor1\"})"
   ]
  },
  {
   "cell_type": "code",
   "execution_count": 4,
   "metadata": {},
   "outputs": [
    {
     "name": "stdout",
     "output_type": "stream",
     "text": [
      "La tupla contiene:\n",
      "1\n",
      " y es de tipo:\n",
      "<class 'int'>\n",
      "La lista contiene:\n",
      "hola\n",
      " y es de tipo:\n",
      "<class 'str'>\n",
      "La diccionario contiene:\n",
      "True\n",
      " y es de tipo:\n",
      "<class 'bool'>\n"
     ]
    },
    {
     "data": {
      "text/plain": [
       "[int, str, bool]"
      ]
     },
     "execution_count": 4,
     "metadata": {},
     "output_type": "execute_result"
    }
   ],
   "source": [
    "##Tener en cuenta que a pesar de que los argumentos de la funcion tienen un nombre como un typo de dato, no quiere decir que sólo acepten ese tipo de dato,\n",
    "## sólo tienen el nombre, no estan tipados. \n",
    "recibe_mix (1,\"hola\", True)"
   ]
  },
  {
   "cell_type": "markdown",
   "metadata": {
    "id": "GtZRdylUUoeC"
   },
   "source": [
    "### Errores típicos con funciones\n",
    "[al indice](#Contenidos)  \n",
    "\n"
   ]
  },
  {
   "cell_type": "markdown",
   "metadata": {
    "id": "AUme3E6iUoeC"
   },
   "source": [
    "<table align=\"left\">\n",
    " <tr>\n",
    "     <td style=\"text-align:left\">\n",
    "         <h3>ERRORES variables de la función</h3>\n",
    "         \n",
    " </td></tr>\n",
    "</table>"
   ]
  },
  {
   "cell_type": "code",
   "execution_count": 9,
   "metadata": {
    "id": "qE8cPxJ-UoeC"
   },
   "outputs": [
    {
     "name": "stdout",
     "output_type": "stream",
     "text": [
      "124.0\n"
     ]
    },
    {
     "ename": "NameError",
     "evalue": "name 'millas' is not defined",
     "output_type": "error",
     "traceback": [
      "\u001b[31m---------------------------------------------------------------------------\u001b[39m",
      "\u001b[31mNameError\u001b[39m                                 Traceback (most recent call last)",
      "\u001b[36mCell\u001b[39m\u001b[36m \u001b[39m\u001b[32mIn[9]\u001b[39m\u001b[32m, line 9\u001b[39m\n\u001b[32m      6\u001b[39m     \u001b[38;5;28;01mreturn\u001b[39;00m \u001b[38;5;28mround\u001b[39m(millas,\u001b[32m2\u001b[39m)\n\u001b[32m      8\u001b[39m \u001b[38;5;28mprint\u001b[39m(km2millas(\u001b[32m200\u001b[39m))\n\u001b[32m----> \u001b[39m\u001b[32m9\u001b[39m \u001b[38;5;28mprint\u001b[39m(\u001b[43mmillas\u001b[49m)\n",
      "\u001b[31mNameError\u001b[39m: name 'millas' is not defined"
     ]
    }
   ],
   "source": [
    "# Todo lo que declaremos dentro de la función se crea UNICAMENTE para la función\n",
    "# Fuera de la misma, esas variables no existen\n",
    "\n",
    "def km2millas(dist):\n",
    "    millas = dist * 0.62\n",
    "    return round(millas,2)\n",
    "\n",
    "print(km2millas(200))\n",
    "print(millas)"
   ]
  },
  {
   "cell_type": "markdown",
   "metadata": {
    "id": "z8YgKk8TUoeC"
   },
   "source": [
    "Se crea un namespace interno dentro de las funciones, es decir, que lo que declaremos dentro, se queda dentro. No lo podremos usar fuera. Además, ten en cuenta que todo lo que introduzcamos dentro de flujos de control (`if/else`, bucles...), nos vale para el resto de la función"
   ]
  },
  {
   "cell_type": "code",
   "execution_count": 11,
   "metadata": {
    "id": "f5EyPwbIUoeC"
   },
   "outputs": [
    {
     "data": {
      "text/plain": [
       "1"
      ]
     },
     "execution_count": 11,
     "metadata": {},
     "output_type": "execute_result"
    }
   ],
   "source": [
    "def numero_ifs(numero):\n",
    "    if numero == 1:\n",
    "        out = 1\n",
    "    return out\n",
    "\n",
    "numero_ifs(1)"
   ]
  },
  {
   "cell_type": "code",
   "execution_count": 12,
   "metadata": {
    "id": "3GmC5DflUoeC"
   },
   "outputs": [
    {
     "ename": "UnboundLocalError",
     "evalue": "cannot access local variable 'out' where it is not associated with a value",
     "output_type": "error",
     "traceback": [
      "\u001b[31m---------------------------------------------------------------------------\u001b[39m",
      "\u001b[31mUnboundLocalError\u001b[39m                         Traceback (most recent call last)",
      "\u001b[36mCell\u001b[39m\u001b[36m \u001b[39m\u001b[32mIn[12]\u001b[39m\u001b[32m, line 1\u001b[39m\n\u001b[32m----> \u001b[39m\u001b[32m1\u001b[39m \u001b[43mnumero_ifs\u001b[49m\u001b[43m(\u001b[49m\u001b[32;43m2\u001b[39;49m\u001b[43m)\u001b[49m\n",
      "\u001b[36mCell\u001b[39m\u001b[36m \u001b[39m\u001b[32mIn[11]\u001b[39m\u001b[32m, line 4\u001b[39m, in \u001b[36mnumero_ifs\u001b[39m\u001b[34m(numero)\u001b[39m\n\u001b[32m      2\u001b[39m \u001b[38;5;28;01mif\u001b[39;00m numero == \u001b[32m1\u001b[39m:\n\u001b[32m      3\u001b[39m     out = \u001b[32m1\u001b[39m\n\u001b[32m----> \u001b[39m\u001b[32m4\u001b[39m \u001b[38;5;28;01mreturn\u001b[39;00m \u001b[43mout\u001b[49m\n",
      "\u001b[31mUnboundLocalError\u001b[39m: cannot access local variable 'out' where it is not associated with a value"
     ]
    }
   ],
   "source": [
    "numero_ifs(2)"
   ]
  },
  {
   "cell_type": "code",
   "execution_count": 14,
   "metadata": {
    "id": "0DBR7YDVUoeC"
   },
   "outputs": [
    {
     "ename": "TypeError",
     "evalue": "km2millas() missing 1 required positional argument: 'dist'",
     "output_type": "error",
     "traceback": [
      "\u001b[31m---------------------------------------------------------------------------\u001b[39m",
      "\u001b[31mTypeError\u001b[39m                                 Traceback (most recent call last)",
      "\u001b[36mCell\u001b[39m\u001b[36m \u001b[39m\u001b[32mIn[14]\u001b[39m\u001b[32m, line 2\u001b[39m\n\u001b[32m      1\u001b[39m \u001b[38;5;66;03m# Si no introducimos argumentos en una función que SI tiene argumentos, salta un error de millas = este estilo\u001b[39;00m\n\u001b[32m----> \u001b[39m\u001b[32m2\u001b[39m millas = \u001b[43mkm2millas\u001b[49m\u001b[43m(\u001b[49m\u001b[43m)\u001b[49m\n",
      "\u001b[31mTypeError\u001b[39m: km2millas() missing 1 required positional argument: 'dist'"
     ]
    }
   ],
   "source": [
    "# Si no introducimos argumentos en una función que SI tiene argumentos, salta un error de millas = este estilo\n",
    "millas = km2millas()"
   ]
  },
  {
   "cell_type": "markdown",
   "metadata": {
    "id": "FV49WAuyUoeC"
   },
   "source": [
    "Cuidado también con la sintaxis de línea. Después de dos puntos `:`, viene todo el bloque de código tabulado, de la función"
   ]
  },
  {
   "cell_type": "code",
   "execution_count": 16,
   "metadata": {
    "id": "uM9vD58aUoeC"
   },
   "outputs": [
    {
     "ename": "IndentationError",
     "evalue": "expected an indented block after function definition on line 1 (3762601472.py, line 2)",
     "output_type": "error",
     "traceback": [
      "  \u001b[36mCell\u001b[39m\u001b[36m \u001b[39m\u001b[32mIn[16]\u001b[39m\u001b[32m, line 2\u001b[39m\n\u001b[31m    \u001b[39m\u001b[31mprint(otro_argumento)\u001b[39m\n    ^\n\u001b[31mIndentationError\u001b[39m\u001b[31m:\u001b[39m expected an indented block after function definition on line 1\n"
     ]
    }
   ],
   "source": [
    "def mala_funcion(otro_argumento):\n",
    "print(otro_argumento)\n",
    "return [otro_argumento]"
   ]
  },
  {
   "cell_type": "code",
   "execution_count": null,
   "metadata": {
    "id": "fmpRIDtKUoeC"
   },
   "outputs": [],
   "source": []
  },
  {
   "cell_type": "code",
   "execution_count": null,
   "metadata": {},
   "outputs": [],
   "source": []
  }
 ],
 "metadata": {
  "colab": {
   "provenance": []
  },
  "kernelspec": {
   "display_name": "Python 3 (ipykernel)",
   "language": "python",
   "name": "python3"
  },
  "language_info": {
   "codemirror_mode": {
    "name": "ipython",
    "version": 3
   },
   "file_extension": ".py",
   "mimetype": "text/x-python",
   "name": "python",
   "nbconvert_exporter": "python",
   "pygments_lexer": "ipython3",
   "version": "3.13.7"
  }
 },
 "nbformat": 4,
 "nbformat_minor": 4
}
